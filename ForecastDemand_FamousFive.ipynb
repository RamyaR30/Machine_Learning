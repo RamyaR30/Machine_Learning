{
 "cells": [
  {
   "cell_type": "code",
   "execution_count": 40,
   "id": "f6a07173",
   "metadata": {},
   "outputs": [],
   "source": [
    "import pandas as pd\n",
    "import numpy as np\n",
    "# Setting display width for pandas DataFrame\n",
    "pd.set_option('display.width', 10000)\n",
    "pd.set_option('display.max_columns', None)"
   ]
  },
  {
   "cell_type": "code",
   "execution_count": 41,
   "id": "209dd735",
   "metadata": {
    "scrolled": true
   },
   "outputs": [
    {
     "name": "stdout",
     "output_type": "stream",
     "text": [
      "        date  temperature  lemonade_demand  iced_tea_demand  hot_cocoa_demand  snacks_demand\n",
      "0 2021-01-01    20.000000                4               17               357            604\n",
      "1 2021-01-02    20.172134                0                0               221            635\n",
      "2 2021-01-03    20.344216              196               76               336            611\n",
      "3 2021-01-04    20.516197              154               73               409            630\n",
      "4 2021-01-05    20.688024              332               96               325            371\n",
      "       temperature  lemonade_demand  iced_tea_demand  hot_cocoa_demand  snacks_demand\n",
      "count  1095.000000      1095.000000      1095.000000       1095.000000    1095.000000\n",
      "mean     20.000000       251.016438       208.717808        304.185388     350.779909\n",
      "std       7.074299       181.077649       171.347375        172.957777     181.157077\n",
      "min      10.000093         0.000000         0.000000          0.000000       0.000000\n",
      "25%      12.944164       101.500000        49.000000        200.500000     244.500000\n",
      "50%      20.000000       250.000000       195.000000        297.000000     351.000000\n",
      "75%      27.055836       347.500000       298.000000        443.500000     495.000000\n",
      "max      29.999907       649.000000       599.000000        599.000000     649.000000\n"
     ]
    }
   ],
   "source": [
    "def generate_synthetic_data(num_rows):\n",
    "    start_date = pd.to_datetime('2021-01-01')\n",
    "    end_date = pd.to_datetime('2023-12-31')\n",
    "    date_range = pd.date_range(start=start_date, end=end_date)\n",
    "    \n",
    "    num_days = len(date_range)\n",
    "    period = 365\n",
    "    phase_shift = 0\n",
    "    amplitude = 10\n",
    "    temperature_mean = 20\n",
    "    temperature = amplitude * np.sin(2 * np.pi * np.arange(num_days) / period + phase_shift) + temperature_mean\n",
    "    \n",
    "    lemonade_demand = np.random.randint(100, 500, size=num_days)\n",
    "    iced_tea_demand = np.random.randint(100, 500, size=num_days)\n",
    "    lemonade_demand[temperature > 25] += 150\n",
    "    iced_tea_demand[temperature > 25] += 100\n",
    "    lemonade_demand[temperature < 25] -= 150\n",
    "    iced_tea_demand[temperature < 25] -= 200\n",
    "    \n",
    "    hot_cocoa_demand = np.random.randint(100, 500, size=num_days)\n",
    "    snacks_demand = np.random.randint(100, 500, size=num_days)\n",
    "    snacks_demand[temperature > 25] -= 150\n",
    "    hot_cocoa_demand[temperature > 25] -= 200\n",
    "    snacks_demand[temperature < 25] += 150 \n",
    "    hot_cocoa_demand[temperature < 25] += 100\n",
    "    \n",
    "    # Ensure demand cannot be less than 0\n",
    "    lemonade_demand[lemonade_demand < 0] = 0\n",
    "    iced_tea_demand[iced_tea_demand < 0] = 0\n",
    "    hot_cocoa_demand[hot_cocoa_demand < 0] = 0\n",
    "    snacks_demand[snacks_demand < 0] = 0\n",
    "    \n",
    "    demand_data = pd.DataFrame({\n",
    "        'date': date_range,\n",
    "        'temperature': temperature,\n",
    "        'lemonade_demand': lemonade_demand,\n",
    "        'iced_tea_demand': iced_tea_demand,\n",
    "        'hot_cocoa_demand': hot_cocoa_demand,\n",
    "        'snacks_demand': snacks_demand\n",
    "    })\n",
    "\n",
    "    return demand_data\n",
    "\n",
    "# Generate synthetic data with 3 years of historical demand data\n",
    "demand_data = generate_synthetic_data(num_rows=1095)  # 365 days * 3 years\n",
    "\n",
    "print(demand_data.head())\n",
    "print(demand_data.describe())"
   ]
  },
  {
   "cell_type": "code",
   "execution_count": 42,
   "id": "3768f36d",
   "metadata": {},
   "outputs": [
    {
     "name": "stdout",
     "output_type": "stream",
     "text": [
      "           date  temperature  lemonade_demand  iced_tea_demand  hot_cocoa_demand  snacks_demand\n",
      "1090 2023-12-27    19.140352              NaN              0.0               520          509.0\n",
      "1091 2023-12-28    19.311976            164.0            288.0               374          529.0\n",
      "1092 2023-12-29    19.483803             57.0              0.0               219           -1.0\n",
      "1093 2023-12-30    19.655784             96.0            272.0                -1          455.0\n",
      "1094 2023-12-31    19.827866            296.0              NaN               383          590.0\n"
     ]
    }
   ],
   "source": [
    "# Introduce missing values, format inconsistencies, and negative values at fixed row indices\n",
    "fixed_rows_with_missing_values_lemonade = [1090 , 3, 6, 9, 12, 15, 18, 21, 24, 27]\n",
    "demand_data.loc[fixed_rows_with_missing_values_lemonade, 'lemonade_demand'] = np.nan\n",
    "\n",
    "fixed_rows_with_missing_values_iced_tea = [1, 4, 7, 1094, 13]\n",
    "demand_data.loc[fixed_rows_with_missing_values_iced_tea, 'iced_tea_demand'] = np.nan\n",
    "\n",
    "fixed_rows_with_missing_values_iced_tea = [ 28, 31, 34, 37, 40, 43]\n",
    "demand_data.loc[fixed_rows_with_missing_values_iced_tea, 'snacks_demand'] = np.nan\n",
    "\n",
    "fixed_rows_with_format_inconsistencies_hot_cocoa = [1093, 14, 17]\n",
    "demand_data.loc[fixed_rows_with_format_inconsistencies_hot_cocoa, 'hot_cocoa_demand'] = -1\n",
    "\n",
    "fixed_rows_with_negative_values_snacks = [30, 33, 36, 39,1092, 45, 48, 51]\n",
    "demand_data.loc[fixed_rows_with_negative_values_snacks, 'snacks_demand'] = -1\n",
    "\n",
    "# Print the DataFrame to show all inconsistencies\n",
    "print(demand_data.tail())"
   ]
  },
  {
   "cell_type": "code",
   "execution_count": 43,
   "id": "baf4d903",
   "metadata": {},
   "outputs": [
    {
     "name": "stdout",
     "output_type": "stream",
     "text": [
      "       temperature  lemonade_demand  iced_tea_demand  hot_cocoa_demand  snacks_demand\n",
      "count  1095.000000      1085.000000      1090.000000       1095.000000    1089.000000\n",
      "mean     20.000000       251.461751       209.334862        302.883105     349.792470\n",
      "std       7.074299       181.688822       171.404828        173.409352     182.580943\n",
      "min      10.000093         0.000000         0.000000         -1.000000      -1.000000\n",
      "25%      12.944164       100.000000        49.750000        199.000000     243.000000\n",
      "50%      20.000000       251.000000       197.500000        296.000000     351.000000\n",
      "75%      27.055836       348.000000       298.750000        443.000000     495.000000\n",
      "max      29.999907       649.000000       599.000000        599.000000     649.000000\n"
     ]
    }
   ],
   "source": [
    "print(demand_data.describe())"
   ]
  },
  {
   "cell_type": "code",
   "execution_count": 44,
   "id": "497fbe16",
   "metadata": {},
   "outputs": [
    {
     "name": "stdout",
     "output_type": "stream",
     "text": [
      "Number of NaN values in each numerical column:\n",
      "temperature          0\n",
      "lemonade_demand     10\n",
      "iced_tea_demand      5\n",
      "hot_cocoa_demand     0\n",
      "snacks_demand        6\n",
      "dtype: int64\n",
      "Number of negative values in numerical columns: 11\n"
     ]
    }
   ],
   "source": [
    "# Count NaN values in numerical columns\n",
    "nan_counts = demand_data.select_dtypes(include=['number']).isna().sum()\n",
    "\n",
    "# Count negative values in numerical columns\n",
    "negative_counts = (demand_data.select_dtypes(include=['number']) < 0).sum().sum()\n",
    "\n",
    "print(\"Number of NaN values in each numerical column:\")\n",
    "print(nan_counts)\n",
    "print(\"Number of negative values in numerical columns:\", negative_counts)\n"
   ]
  },
  {
   "cell_type": "code",
   "execution_count": 45,
   "id": "b4784350",
   "metadata": {},
   "outputs": [
    {
     "name": "stdout",
     "output_type": "stream",
     "text": [
      "Number of NaN values in each numerical column:\n",
      "temperature         0\n",
      "lemonade_demand     0\n",
      "iced_tea_demand     0\n",
      "hot_cocoa_demand    0\n",
      "snacks_demand       0\n",
      "dtype: int64\n",
      "Number of negative values in numerical columns: 0\n"
     ]
    }
   ],
   "source": [
    "# Step 1: Replacing Negative Values with 0\n",
    "numerical_columns = demand_data.select_dtypes(include=['number']).columns\n",
    "demand_data[numerical_columns] = demand_data[numerical_columns].clip(lower=0)\n",
    "\n",
    "# Step 2: Filling NaN Values with the Mean of Previous and Next\n",
    "demand_data[numerical_columns] = demand_data[numerical_columns].fillna(method='ffill')\n",
    "demand_data[numerical_columns] = demand_data[numerical_columns].fillna(method='bfill')\n",
    "\n",
    "# Count NaN values in numerical columns\n",
    "nan_counts = demand_data.select_dtypes(include=['number']).isna().sum()\n",
    "# Count negative values in numerical columns\n",
    "negative_counts = (demand_data.select_dtypes(include=['number']) < 0).sum().sum()\n",
    "\n",
    "print(\"Number of NaN values in each numerical column:\")\n",
    "print(nan_counts)\n",
    "print(\"Number of negative values in numerical columns:\", negative_counts)"
   ]
  },
  {
   "cell_type": "code",
   "execution_count": 46,
   "id": "c8b6bb32",
   "metadata": {},
   "outputs": [],
   "source": [
    "# Extract date features\n",
    "demand_data['day'] = demand_data['date'].dt.day\n",
    "demand_data['month'] = demand_data['date'].dt.month\n",
    "demand_data['year'] = demand_data['date'].dt.year"
   ]
  },
  {
   "cell_type": "code",
   "execution_count": 47,
   "id": "1ba9721c",
   "metadata": {},
   "outputs": [],
   "source": [
    "from sklearn.ensemble import RandomForestRegressor\n",
    "\n",
    "# Defining the features and target variables\n",
    "X = demand_data[['day', 'month', 'year', 'temperature']]\n",
    "y = demand_data[['lemonade_demand', 'iced_tea_demand', 'hot_cocoa_demand', 'snacks_demand']]\n",
    "\n",
    "# Model Training (Random Forest Regressor)\n",
    "models = {}\n",
    "for product in y.columns:\n",
    "    model = RandomForestRegressor(n_estimators=100, random_state=42)\n",
    "    model.fit(X, y[product])  # Train on the entire historical dataset\n",
    "    models[product] = model\n"
   ]
  },
  {
   "cell_type": "code",
   "execution_count": 48,
   "id": "2ce996f3",
   "metadata": {},
   "outputs": [],
   "source": [
    "# Generate synthetic data for the year 2024\n",
    "future_data_2024 = generate_synthetic_data(num_rows=365)\n",
    "\n",
    "# Extract date features for the future data\n",
    "future_data_2024['day'] = future_data_2024['date'].dt.day\n",
    "future_data_2024['month'] = future_data_2024['date'].dt.month\n",
    "future_data_2024['year'] = future_data_2024['date'].dt.year"
   ]
  },
  {
   "cell_type": "code",
   "execution_count": 49,
   "id": "2a509e7f",
   "metadata": {},
   "outputs": [],
   "source": [
    "#Predict demand for each month of the year 2024\n",
    "forecasted_demand_2024 = {}\n",
    "for product in y.columns:\n",
    "    forecasted_demand_2024[product] = np.zeros(12)  # Initialize an array to store the forecasted demand for each month\n",
    "    for month in range(1, 13):\n",
    "        # Filter the future data for the specific month\n",
    "        future_data_month = future_data_2024[future_data_2024['month'] == month]\n",
    "        # Predict demand for the specific month\n",
    "        forecasted_demand_2024[product][month - 1] = models[product].predict(future_data_month[['day', 'month', 'year', 'temperature']])[0]\n"
   ]
  },
  {
   "cell_type": "code",
   "execution_count": 50,
   "id": "098c1f6a",
   "metadata": {},
   "outputs": [
    {
     "name": "stdout",
     "output_type": "stream",
     "text": [
      "Product: lemonade_demand\n",
      "Mean Absolute Error (MAE): 40.901251141552514\n",
      "Product: iced_tea_demand\n",
      "Mean Absolute Error (MAE): 37.111625570776255\n",
      "Product: hot_cocoa_demand\n",
      "Mean Absolute Error (MAE): 39.36709589041096\n",
      "Product: snacks_demand\n",
      "Mean Absolute Error (MAE): 40.035616438356165\n"
     ]
    }
   ],
   "source": [
    "from sklearn.metrics import mean_absolute_error\n",
    "\n",
    "# Model Evaluation\n",
    "for product in y.columns:\n",
    "    y_pred = models[product].predict(X)\n",
    "    mae = mean_absolute_error(y[product], y_pred)\n",
    "    print(f\"Product: {product}\")\n",
    "    print(f\"Mean Absolute Error (MAE): {mae}\")"
   ]
  },
  {
   "cell_type": "code",
   "execution_count": 55,
   "id": "85032774",
   "metadata": {},
   "outputs": [],
   "source": [
    "# Convert forecasted_demand_2024 into a DataFrame\n",
    "forecasted_demand_2024_df = pd.DataFrame(forecasted_demand_2024)"
   ]
  },
  {
   "cell_type": "code",
   "execution_count": null,
   "id": "db1f5922",
   "metadata": {},
   "outputs": [],
   "source": []
  },
  {
   "cell_type": "code",
   "execution_count": 61,
   "id": "23d28774",
   "metadata": {},
   "outputs": [
    {
     "data": {
      "image/png": "[encoded data removed]",
      "text/plain": [
       "<Figure size 1152x720 with 4 Axes>"
      ]
     },
     "metadata": {
      "needs_background": "light"
     },
     "output_type": "display_data"
    }
   ],
   "source": [
    "# Visualizing using MATPLOTLIB\n",
    "\n",
    "import matplotlib.pyplot as plt\n",
    "# Visualizing the forecasted demand for the year 2024 using bar plots for each month\n",
    "plt.figure(figsize=(16, 10))\n",
    "\n",
    "months = range(1, 13)\n",
    "bar_width = 0.2\n",
    "index = np.arange(len(months))\n",
    "\n",
    "for i, product in enumerate(y.columns, 1):\n",
    "    plt.subplot(2, 2, i)\n",
    "    plt.bar(index, forecasted_demand_2024[product], color='red', width=bar_width, label='Forecasted Demand 2024')\n",
    "    plt.xlabel('Month')\n",
    "    plt.ylabel('Demand')\n",
    "    plt.title(f'{product} Forecast for 2024')\n",
    "    plt.xticks(index, months)  # Set xticks to display month numbers\n",
    "    plt.legend()\n",
    "\n",
    "plt.tight_layout()\n",
    "plt.show()\n"
   ]
  },
  {
   "cell_type": "code",
   "execution_count": 62,
   "id": "0e5e7095",
   "metadata": {},
   "outputs": [
    {
     "data": {
      "application/vnd.plotly.v1+json": {
       "config": {
        "plotlyServerURL": "https://plot.ly"
       },
       "data": [
        {
         "hoverinfo": "y",
         "marker": {
          "color": "blue"
         },
         "name": "lemonade_demand ",
         "opacity": 0.8,
         "text": [
          "Forecasted Demand: 41",
          "Forecasted Demand: 571",
          "Forecasted Demand: 526",
          "Forecasted Demand: 370",
          "Forecasted Demand: 360",
          "Forecasted Demand: 463",
          "Forecasted Demand: 229",
          "Forecasted Demand: 59",
          "Forecasted Demand: 94",
          "Forecasted Demand: 289",
          "Forecasted Demand: 225",
          "Forecasted Demand: 201"
         ],
         "textfont": {
          "color": "black"
         },
         "textposition": "outside",
         "type": "bar",
         "x": [
          1,
          2,
          3,
          4,
          5,
          6,
          7,
          8,
          9,
          10,
          11,
          12
         ],
         "y": [
          41.04,
          571.85,
          526.43,
          370.79,
          360.11,
          463.35,
          229.15,
          59.1,
          94.04,
          289.66,
          225.44,
          201.21
         ]
        },
        {
         "hoverinfo": "y",
         "marker": {
          "color": "green"
         },
         "name": "iced_tea_demand ",
         "opacity": 0.8,
         "text": [
          "Forecasted Demand: 47",
          "Forecasted Demand: 246",
          "Forecasted Demand: 251",
          "Forecasted Demand: 481",
          "Forecasted Demand: 301",
          "Forecasted Demand: 277",
          "Forecasted Demand: 39",
          "Forecasted Demand: 69",
          "Forecasted Demand: 160",
          "Forecasted Demand: 100",
          "Forecasted Demand: 24",
          "Forecasted Demand: 223"
         ],
         "textfont": {
          "color": "black"
         },
         "textposition": "outside",
         "type": "bar",
         "x": [
          1,
          2,
          3,
          4,
          5,
          6,
          7,
          8,
          9,
          10,
          11,
          12
         ],
         "y": [
          47.16,
          246.31,
          251.31,
          481.12,
          301.2,
          277.1,
          39.19,
          69.39,
          160.22,
          100.91,
          24.62,
          223.45
         ]
        },
        {
         "hoverinfo": "y",
         "marker": {
          "color": "orange"
         },
         "name": "hot_cocoa_demand ",
         "opacity": 0.8,
         "text": [
          "Forecasted Demand: 336",
          "Forecasted Demand: 177",
          "Forecasted Demand: 223",
          "Forecasted Demand: 114",
          "Forecasted Demand: 244",
          "Forecasted Demand: 55",
          "Forecasted Demand: 460",
          "Forecasted Demand: 278",
          "Forecasted Demand: 311",
          "Forecasted Demand: 489",
          "Forecasted Demand: 332",
          "Forecasted Demand: 348"
         ],
         "textfont": {
          "color": "black"
         },
         "textposition": "outside",
         "type": "bar",
         "x": [
          1,
          2,
          3,
          4,
          5,
          6,
          7,
          8,
          9,
          10,
          11,
          12
         ],
         "y": [
          336.88,
          177.19,
          223.85,
          114.68,
          244.31,
          55.24,
          460.07,
          278.39,
          311.12,
          489.57,
          332.25,
          348.48
         ]
        },
        {
         "hoverinfo": "y",
         "marker": {
          "color": "red"
         },
         "name": "snacks_demand ",
         "opacity": 0.8,
         "text": [
          "Forecasted Demand: 573",
          "Forecasted Demand: 36",
          "Forecasted Demand: 228",
          "Forecasted Demand: 154",
          "Forecasted Demand: 169",
          "Forecasted Demand: 103",
          "Forecasted Demand: 433",
          "Forecasted Demand: 540",
          "Forecasted Demand: 514",
          "Forecasted Demand: 502",
          "Forecasted Demand: 489",
          "Forecasted Demand: 511"
         ],
         "textfont": {
          "color": "black"
         },
         "textposition": "outside",
         "type": "bar",
         "x": [
          1,
          2,
          3,
          4,
          5,
          6,
          7,
          8,
          9,
          10,
          11,
          12
         ],
         "y": [
          573.26,
          36.54,
          228.28,
          154.24,
          169.12,
          103.45,
          433.96,
          540.53,
          514.84,
          502.5,
          489.61,
          511.69
         ]
        }
       ],
       "layout": {
        "barmode": "group",
        "legend": {
         "orientation": "h",
         "x": 1,
         "xanchor": "right",
         "y": 1.02,
         "yanchor": "bottom"
        },
        "showlegend": true,
        "template": {
         "data": {
          "bar": [
           {
            "error_x": {
             "color": "#2a3f5f"
            },
            "error_y": {
             "color": "#2a3f5f"
            },
            "marker": {
             "line": {
              "color": "#E5ECF6",
              "width": 0.5
             },
             "pattern": {
              "fillmode": "overlay",
              "size": 10,
              "solidity": 0.2
             }
            },
            "type": "bar"
           }
          ],
          "barpolar": [
           {
            "marker": {
             "line": {
              "color": "#E5ECF6",
              "width": 0.5
             },
             "pattern": {
              "fillmode": "overlay",
              "size": 10,
              "solidity": 0.2
             }
            },
            "type": "barpolar"
           }
          ],
          "carpet": [
           {
            "aaxis": {
             "endlinecolor": "#2a3f5f",
             "gridcolor": "white",
             "linecolor": "white",
             "minorgridcolor": "white",
             "startlinecolor": "#2a3f5f"
            },
            "baxis": {
             "endlinecolor": "#2a3f5f",
             "gridcolor": "white",
             "linecolor": "white",
             "minorgridcolor": "white",
             "startlinecolor": "#2a3f5f"
            },
            "type": "carpet"
           }
          ],
          "choropleth": [
           {
            "colorbar": {
             "outlinewidth": 0,
             "ticks": ""
            },
            "type": "choropleth"
           }
          ],
          "contour": [
           {
            "colorbar": {
             "outlinewidth": 0,
             "ticks": ""
            },
            "colorscale": [
             [
              0,
              "#0d0887"
             ],
             [
              0.1111111111111111,
              "#46039f"
             ],
             [
              0.2222222222222222,
              "#7201a8"
             ],
             [
              0.3333333333333333,
              "#9c179e"
             ],
             [
              0.4444444444444444,
              "#bd3786"
             ],
             [
              0.5555555555555556,
              "#d8576b"
             ],
             [
              0.6666666666666666,
              "#ed7953"
             ],
             [
              0.7777777777777778,
              "#fb9f3a"
             ],
             [
              0.8888888888888888,
              "#fdca26"
             ],
             [
              1,
              "#f0f921"
             ]
            ],
            "type": "contour"
           }
          ],
          "contourcarpet": [
           {
            "colorbar": {
             "outlinewidth": 0,
             "ticks": ""
            },
            "type": "contourcarpet"
           }
          ],
          "heatmap": [
           {
            "colorbar": {
             "outlinewidth": 0,
             "ticks": ""
            },
            "colorscale": [
             [
              0,
              "#0d0887"
             ],
             [
              0.1111111111111111,
              "#46039f"
             ],
             [
              0.2222222222222222,
              "#7201a8"
             ],
             [
              0.3333333333333333,
              "#9c179e"
             ],
             [
              0.4444444444444444,
              "#bd3786"
             ],
             [
              0.5555555555555556,
              "#d8576b"
             ],
             [
              0.6666666666666666,
              "#ed7953"
             ],
             [
              0.7777777777777778,
              "#fb9f3a"
             ],
             [
              0.8888888888888888,
              "#fdca26"
             ],
             [
              1,
              "#f0f921"
             ]
            ],
            "type": "heatmap"
           }
          ],
          "heatmapgl": [
           {
            "colorbar": {
             "outlinewidth": 0,
             "ticks": ""
            },
            "colorscale": [
             [
              0,
              "#0d0887"
             ],
             [
              0.1111111111111111,
              "#46039f"
             ],
             [
              0.2222222222222222,
              "#7201a8"
             ],
             [
              0.3333333333333333,
              "#9c179e"
             ],
             [
              0.4444444444444444,
              "#bd3786"
             ],
             [
              0.5555555555555556,
              "#d8576b"
             ],
             [
              0.6666666666666666,
              "#ed7953"
             ],
             [
              0.7777777777777778,
              "#fb9f3a"
             ],
             [
              0.8888888888888888,
              "#fdca26"
             ],
             [
              1,
              "#f0f921"
             ]
            ],
            "type": "heatmapgl"
           }
          ],
          "histogram": [
           {
            "marker": {
             "pattern": {
              "fillmode": "overlay",
              "size": 10,
              "solidity": 0.2
             }
            },
            "type": "histogram"
           }
          ],
          "histogram2d": [
           {
            "colorbar": {
             "outlinewidth": 0,
             "ticks": ""
            },
            "colorscale": [
             [
              0,
              "#0d0887"
             ],
             [
              0.1111111111111111,
              "#46039f"
             ],
             [
              0.2222222222222222,
              "#7201a8"
             ],
             [
              0.3333333333333333,
              "#9c179e"
             ],
             [
              0.4444444444444444,
              "#bd3786"
             ],
             [
              0.5555555555555556,
              "#d8576b"
             ],
             [
              0.6666666666666666,
              "#ed7953"
             ],
             [
              0.7777777777777778,
              "#fb9f3a"
             ],
             [
              0.8888888888888888,
              "#fdca26"
             ],
             [
              1,
              "#f0f921"
             ]
            ],
            "type": "histogram2d"
           }
          ],
          "histogram2dcontour": [
           {
            "colorbar": {
             "outlinewidth": 0,
             "ticks": ""
            },
            "colorscale": [
             [
              0,
              "#0d0887"
             ],
             [
              0.1111111111111111,
              "#46039f"
             ],
             [
              0.2222222222222222,
              "#7201a8"
             ],
             [
              0.3333333333333333,
              "#9c179e"
             ],
             [
              0.4444444444444444,
              "#bd3786"
             ],
             [
              0.5555555555555556,
              "#d8576b"
             ],
             [
              0.6666666666666666,
              "#ed7953"
             ],
             [
              0.7777777777777778,
              "#fb9f3a"
             ],
             [
              0.8888888888888888,
              "#fdca26"
             ],
             [
              1,
              "#f0f921"
             ]
            ],
            "type": "histogram2dcontour"
           }
          ],
          "mesh3d": [
           {
            "colorbar": {
             "outlinewidth": 0,
             "ticks": ""
            },
            "type": "mesh3d"
           }
          ],
          "parcoords": [
           {
            "line": {
             "colorbar": {
              "outlinewidth": 0,
              "ticks": ""
             }
            },
            "type": "parcoords"
           }
          ],
          "pie": [
           {
            "automargin": true,
            "type": "pie"
           }
          ],
          "scatter": [
           {
            "fillpattern": {
             "fillmode": "overlay",
             "size": 10,
             "solidity": 0.2
            },
            "type": "scatter"
           }
          ],
          "scatter3d": [
           {
            "line": {
             "colorbar": {
              "outlinewidth": 0,
              "ticks": ""
             }
            },
            "marker": {
             "colorbar": {
              "outlinewidth": 0,
              "ticks": ""
             }
            },
            "type": "scatter3d"
           }
          ],
          "scattercarpet": [
           {
            "marker": {
             "colorbar": {
              "outlinewidth": 0,
              "ticks": ""
             }
            },
            "type": "scattercarpet"
           }
          ],
          "scattergeo": [
           {
            "marker": {
             "colorbar": {
              "outlinewidth": 0,
              "ticks": ""
             }
            },
            "type": "scattergeo"
           }
          ],
          "scattergl": [
           {
            "marker": {
             "colorbar": {
              "outlinewidth": 0,
              "ticks": ""
             }
            },
            "type": "scattergl"
           }
          ],
          "scattermapbox": [
           {
            "marker": {
             "colorbar": {
              "outlinewidth": 0,
              "ticks": ""
             }
            },
            "type": "scattermapbox"
           }
          ],
          "scatterpolar": [
           {
            "marker": {
             "colorbar": {
              "outlinewidth": 0,
              "ticks": ""
             }
            },
            "type": "scatterpolar"
           }
          ],
          "scatterpolargl": [
           {
            "marker": {
             "colorbar": {
              "outlinewidth": 0,
              "ticks": ""
             }
            },
            "type": "scatterpolargl"
           }
          ],
          "scatterternary": [
           {
            "marker": {
             "colorbar": {
              "outlinewidth": 0,
              "ticks": ""
             }
            },
            "type": "scatterternary"
           }
          ],
          "surface": [
           {
            "colorbar": {
             "outlinewidth": 0,
             "ticks": ""
            },
            "colorscale": [
             [
              0,
              "#0d0887"
             ],
             [
              0.1111111111111111,
              "#46039f"
             ],
             [
              0.2222222222222222,
              "#7201a8"
             ],
             [
              0.3333333333333333,
              "#9c179e"
             ],
             [
              0.4444444444444444,
              "#bd3786"
             ],
             [
              0.5555555555555556,
              "#d8576b"
             ],
             [
              0.6666666666666666,
              "#ed7953"
             ],
             [
              0.7777777777777778,
              "#fb9f3a"
             ],
             [
              0.8888888888888888,
              "#fdca26"
             ],
             [
              1,
              "#f0f921"
             ]
            ],
            "type": "surface"
           }
          ],
          "table": [
           {
            "cells": {
             "fill": {
              "color": "#EBF0F8"
             },
             "line": {
              "color": "white"
             }
            },
            "header": {
             "fill": {
              "color": "#C8D4E3"
             },
             "line": {
              "color": "white"
             }
            },
            "type": "table"
           }
          ]
         },
         "layout": {
          "annotationdefaults": {
           "arrowcolor": "#2a3f5f",
           "arrowhead": 0,
           "arrowwidth": 1
          },
          "autotypenumbers": "strict",
          "coloraxis": {
           "colorbar": {
            "outlinewidth": 0,
            "ticks": ""
           }
          },
          "colorscale": {
           "diverging": [
            [
             0,
             "#8e0152"
            ],
            [
             0.1,
             "#c51b7d"
            ],
            [
             0.2,
             "#de77ae"
            ],
            [
             0.3,
             "#f1b6da"
            ],
            [
             0.4,
             "#fde0ef"
            ],
            [
             0.5,
             "#f7f7f7"
            ],
            [
             0.6,
             "#e6f5d0"
            ],
            [
             0.7,
             "#b8e186"
            ],
            [
             0.8,
             "#7fbc41"
            ],
            [
             0.9,
             "#4d9221"
            ],
            [
             1,
             "#276419"
            ]
           ],
           "sequential": [
            [
             0,
             "#0d0887"
            ],
            [
             0.1111111111111111,
             "#46039f"
            ],
            [
             0.2222222222222222,
             "#7201a8"
            ],
            [
             0.3333333333333333,
             "#9c179e"
            ],
            [
             0.4444444444444444,
             "#bd3786"
            ],
            [
             0.5555555555555556,
             "#d8576b"
            ],
            [
             0.6666666666666666,
             "#ed7953"
            ],
            [
             0.7777777777777778,
             "#fb9f3a"
            ],
            [
             0.8888888888888888,
             "#fdca26"
            ],
            [
             1,
             "#f0f921"
            ]
           ],
           "sequentialminus": [
            [
             0,
             "#0d0887"
            ],
            [
             0.1111111111111111,
             "#46039f"
            ],
            [
             0.2222222222222222,
             "#7201a8"
            ],
            [
             0.3333333333333333,
             "#9c179e"
            ],
            [
             0.4444444444444444,
             "#bd3786"
            ],
            [
             0.5555555555555556,
             "#d8576b"
            ],
            [
             0.6666666666666666,
             "#ed7953"
            ],
            [
             0.7777777777777778,
             "#fb9f3a"
            ],
            [
             0.8888888888888888,
             "#fdca26"
            ],
            [
             1,
             "#f0f921"
            ]
           ]
          },
          "colorway": [
           "#636efa",
           "#EF553B",
           "#00cc96",
           "#ab63fa",
           "#FFA15A",
           "#19d3f3",
           "#FF6692",
           "#B6E880",
           "#FF97FF",
           "#FECB52"
          ],
          "font": {
           "color": "#2a3f5f"
          },
          "geo": {
           "bgcolor": "white",
           "lakecolor": "white",
           "landcolor": "#E5ECF6",
           "showlakes": true,
           "showland": true,
           "subunitcolor": "white"
          },
          "hoverlabel": {
           "align": "left"
          },
          "hovermode": "closest",
          "mapbox": {
           "style": "light"
          },
          "paper_bgcolor": "white",
          "plot_bgcolor": "#E5ECF6",
          "polar": {
           "angularaxis": {
            "gridcolor": "white",
            "linecolor": "white",
            "ticks": ""
           },
           "bgcolor": "#E5ECF6",
           "radialaxis": {
            "gridcolor": "white",
            "linecolor": "white",
            "ticks": ""
           }
          },
          "scene": {
           "xaxis": {
            "backgroundcolor": "#E5ECF6",
            "gridcolor": "white",
            "gridwidth": 2,
            "linecolor": "white",
            "showbackground": true,
            "ticks": "",
            "zerolinecolor": "white"
           },
           "yaxis": {
            "backgroundcolor": "#E5ECF6",
            "gridcolor": "white",
            "gridwidth": 2,
            "linecolor": "white",
            "showbackground": true,
            "ticks": "",
            "zerolinecolor": "white"
           },
           "zaxis": {
            "backgroundcolor": "#E5ECF6",
            "gridcolor": "white",
            "gridwidth": 2,
            "linecolor": "white",
            "showbackground": true,
            "ticks": "",
            "zerolinecolor": "white"
           }
          },
          "shapedefaults": {
           "line": {
            "color": "#2a3f5f"
           }
          },
          "ternary": {
           "aaxis": {
            "gridcolor": "white",
            "linecolor": "white",
            "ticks": ""
           },
           "baxis": {
            "gridcolor": "white",
            "linecolor": "white",
            "ticks": ""
           },
           "bgcolor": "#E5ECF6",
           "caxis": {
            "gridcolor": "white",
            "linecolor": "white",
            "ticks": ""
           }
          },
          "title": {
           "x": 0.05
          },
          "xaxis": {
           "automargin": true,
           "gridcolor": "white",
           "linecolor": "white",
           "ticks": "",
           "title": {
            "standoff": 15
           },
           "zerolinecolor": "white",
           "zerolinewidth": 2
          },
          "yaxis": {
           "automargin": true,
           "gridcolor": "white",
           "linecolor": "white",
           "ticks": "",
           "title": {
            "standoff": 15
           },
           "zerolinecolor": "white",
           "zerolinewidth": 2
          }
         }
        },
        "title": {
         "text": "Forecasted Demand for 2024"
        },
        "xaxis": {
         "tickmode": "array",
         "ticktext": [
          "Jan",
          "Feb",
          "Mar",
          "Apr",
          "May",
          "Jun",
          "Jul",
          "Aug",
          "Sep",
          "Oct",
          "Nov",
          "Dec"
         ],
         "tickvals": [
          1,
          2,
          3,
          4,
          5,
          6,
          7,
          8,
          9,
          10,
          11,
          12
         ],
         "title": {
          "text": "Month"
         }
        },
        "yaxis": {
         "title": {
          "text": "Demand"
         }
        }
       }
      },
      "text/html": [
       "<div>                            <div id=\"436d3ac5-a7d5-4cd7-bdd6-b8879eedcfc6\" class=\"plotly-graph-div\" style=\"height:525px; width:100%;\"></div>            <script type=\"text/javascript\">                require([\"plotly\"], function(Plotly) {                    window.PLOTLYENV=window.PLOTLYENV || {};                                    if (document.getElementById(\"436d3ac5-a7d5-4cd7-bdd6-b8879eedcfc6\")) {                    Plotly.newPlot(                        \"436d3ac5-a7d5-4cd7-bdd6-b8879eedcfc6\",                        [{\"hoverinfo\":\"y\",\"marker\":{\"color\":\"blue\"},\"name\":\"lemonade_demand \",\"opacity\":0.8,\"text\":[\"Forecasted Demand: 41\",\"Forecasted Demand: 571\",\"Forecasted Demand: 526\",\"Forecasted Demand: 370\",\"Forecasted Demand: 360\",\"Forecasted Demand: 463\",\"Forecasted Demand: 229\",\"Forecasted Demand: 59\",\"Forecasted Demand: 94\",\"Forecasted Demand: 289\",\"Forecasted Demand: 225\",\"Forecasted Demand: 201\"],\"textfont\":{\"color\":\"black\"},\"textposition\":\"outside\",\"x\":[1,2,3,4,5,6,7,8,9,10,11,12],\"y\":[41.04,571.85,526.43,370.79,360.11,463.35,229.15,59.1,94.04,289.66,225.44,201.21],\"type\":\"bar\"},{\"hoverinfo\":\"y\",\"marker\":{\"color\":\"green\"},\"name\":\"iced_tea_demand \",\"opacity\":0.8,\"text\":[\"Forecasted Demand: 47\",\"Forecasted Demand: 246\",\"Forecasted Demand: 251\",\"Forecasted Demand: 481\",\"Forecasted Demand: 301\",\"Forecasted Demand: 277\",\"Forecasted Demand: 39\",\"Forecasted Demand: 69\",\"Forecasted Demand: 160\",\"Forecasted Demand: 100\",\"Forecasted Demand: 24\",\"Forecasted Demand: 223\"],\"textfont\":{\"color\":\"black\"},\"textposition\":\"outside\",\"x\":[1,2,3,4,5,6,7,8,9,10,11,12],\"y\":[47.16,246.31,251.31,481.12,301.2,277.1,39.19,69.39,160.22,100.91,24.62,223.45],\"type\":\"bar\"},{\"hoverinfo\":\"y\",\"marker\":{\"color\":\"orange\"},\"name\":\"hot_cocoa_demand \",\"opacity\":0.8,\"text\":[\"Forecasted Demand: 336\",\"Forecasted Demand: 177\",\"Forecasted Demand: 223\",\"Forecasted Demand: 114\",\"Forecasted Demand: 244\",\"Forecasted Demand: 55\",\"Forecasted Demand: 460\",\"Forecasted Demand: 278\",\"Forecasted Demand: 311\",\"Forecasted Demand: 489\",\"Forecasted Demand: 332\",\"Forecasted Demand: 348\"],\"textfont\":{\"color\":\"black\"},\"textposition\":\"outside\",\"x\":[1,2,3,4,5,6,7,8,9,10,11,12],\"y\":[336.88,177.19,223.85,114.68,244.31,55.24,460.07,278.39,311.12,489.57,332.25,348.48],\"type\":\"bar\"},{\"hoverinfo\":\"y\",\"marker\":{\"color\":\"red\"},\"name\":\"snacks_demand \",\"opacity\":0.8,\"text\":[\"Forecasted Demand: 573\",\"Forecasted Demand: 36\",\"Forecasted Demand: 228\",\"Forecasted Demand: 154\",\"Forecasted Demand: 169\",\"Forecasted Demand: 103\",\"Forecasted Demand: 433\",\"Forecasted Demand: 540\",\"Forecasted Demand: 514\",\"Forecasted Demand: 502\",\"Forecasted Demand: 489\",\"Forecasted Demand: 511\"],\"textfont\":{\"color\":\"black\"},\"textposition\":\"outside\",\"x\":[1,2,3,4,5,6,7,8,9,10,11,12],\"y\":[573.26,36.54,228.28,154.24,169.12,103.45,433.96,540.53,514.84,502.5,489.61,511.69],\"type\":\"bar\"}],                        {\"template\":{\"data\":{\"histogram2dcontour\":[{\"type\":\"histogram2dcontour\",\"colorbar\":{\"outlinewidth\":0,\"ticks\":\"\"},\"colorscale\":[[0.0,\"#0d0887\"],[0.1111111111111111,\"#46039f\"],[0.2222222222222222,\"#7201a8\"],[0.3333333333333333,\"#9c179e\"],[0.4444444444444444,\"#bd3786\"],[0.5555555555555556,\"#d8576b\"],[0.6666666666666666,\"#ed7953\"],[0.7777777777777778,\"#fb9f3a\"],[0.8888888888888888,\"#fdca26\"],[1.0,\"#f0f921\"]]}],\"choropleth\":[{\"type\":\"choropleth\",\"colorbar\":{\"outlinewidth\":0,\"ticks\":\"\"}}],\"histogram2d\":[{\"type\":\"histogram2d\",\"colorbar\":{\"outlinewidth\":0,\"ticks\":\"\"},\"colorscale\":[[0.0,\"#0d0887\"],[0.1111111111111111,\"#46039f\"],[0.2222222222222222,\"#7201a8\"],[0.3333333333333333,\"#9c179e\"],[0.4444444444444444,\"#bd3786\"],[0.5555555555555556,\"#d8576b\"],[0.6666666666666666,\"#ed7953\"],[0.7777777777777778,\"#fb9f3a\"],[0.8888888888888888,\"#fdca26\"],[1.0,\"#f0f921\"]]}],\"heatmap\":[{\"type\":\"heatmap\",\"colorbar\":{\"outlinewidth\":0,\"ticks\":\"\"},\"colorscale\":[[0.0,\"#0d0887\"],[0.1111111111111111,\"#46039f\"],[0.2222222222222222,\"#7201a8\"],[0.3333333333333333,\"#9c179e\"],[0.4444444444444444,\"#bd3786\"],[0.5555555555555556,\"#d8576b\"],[0.6666666666666666,\"#ed7953\"],[0.7777777777777778,\"#fb9f3a\"],[0.8888888888888888,\"#fdca26\"],[1.0,\"#f0f921\"]]}],\"heatmapgl\":[{\"type\":\"heatmapgl\",\"colorbar\":{\"outlinewidth\":0,\"ticks\":\"\"},\"colorscale\":[[0.0,\"#0d0887\"],[0.1111111111111111,\"#46039f\"],[0.2222222222222222,\"#7201a8\"],[0.3333333333333333,\"#9c179e\"],[0.4444444444444444,\"#bd3786\"],[0.5555555555555556,\"#d8576b\"],[0.6666666666666666,\"#ed7953\"],[0.7777777777777778,\"#fb9f3a\"],[0.8888888888888888,\"#fdca26\"],[1.0,\"#f0f921\"]]}],\"contourcarpet\":[{\"type\":\"contourcarpet\",\"colorbar\":{\"outlinewidth\":0,\"ticks\":\"\"}}],\"contour\":[{\"type\":\"contour\",\"colorbar\":{\"outlinewidth\":0,\"ticks\":\"\"},\"colorscale\":[[0.0,\"#0d0887\"],[0.1111111111111111,\"#46039f\"],[0.2222222222222222,\"#7201a8\"],[0.3333333333333333,\"#9c179e\"],[0.4444444444444444,\"#bd3786\"],[0.5555555555555556,\"#d8576b\"],[0.6666666666666666,\"#ed7953\"],[0.7777777777777778,\"#fb9f3a\"],[0.8888888888888888,\"#fdca26\"],[1.0,\"#f0f921\"]]}],\"surface\":[{\"type\":\"surface\",\"colorbar\":{\"outlinewidth\":0,\"ticks\":\"\"},\"colorscale\":[[0.0,\"#0d0887\"],[0.1111111111111111,\"#46039f\"],[0.2222222222222222,\"#7201a8\"],[0.3333333333333333,\"#9c179e\"],[0.4444444444444444,\"#bd3786\"],[0.5555555555555556,\"#d8576b\"],[0.6666666666666666,\"#ed7953\"],[0.7777777777777778,\"#fb9f3a\"],[0.8888888888888888,\"#fdca26\"],[1.0,\"#f0f921\"]]}],\"mesh3d\":[{\"type\":\"mesh3d\",\"colorbar\":{\"outlinewidth\":0,\"ticks\":\"\"}}],\"scatter\":[{\"fillpattern\":{\"fillmode\":\"overlay\",\"size\":10,\"solidity\":0.2},\"type\":\"scatter\"}],\"parcoords\":[{\"type\":\"parcoords\",\"line\":{\"colorbar\":{\"outlinewidth\":0,\"ticks\":\"\"}}}],\"scatterpolargl\":[{\"type\":\"scatterpolargl\",\"marker\":{\"colorbar\":{\"outlinewidth\":0,\"ticks\":\"\"}}}],\"bar\":[{\"error_x\":{\"color\":\"#2a3f5f\"},\"error_y\":{\"color\":\"#2a3f5f\"},\"marker\":{\"line\":{\"color\":\"#E5ECF6\",\"width\":0.5},\"pattern\":{\"fillmode\":\"overlay\",\"size\":10,\"solidity\":0.2}},\"type\":\"bar\"}],\"scattergeo\":[{\"type\":\"scattergeo\",\"marker\":{\"colorbar\":{\"outlinewidth\":0,\"ticks\":\"\"}}}],\"scatterpolar\":[{\"type\":\"scatterpolar\",\"marker\":{\"colorbar\":{\"outlinewidth\":0,\"ticks\":\"\"}}}],\"histogram\":[{\"marker\":{\"pattern\":{\"fillmode\":\"overlay\",\"size\":10,\"solidity\":0.2}},\"type\":\"histogram\"}],\"scattergl\":[{\"type\":\"scattergl\",\"marker\":{\"colorbar\":{\"outlinewidth\":0,\"ticks\":\"\"}}}],\"scatter3d\":[{\"type\":\"scatter3d\",\"line\":{\"colorbar\":{\"outlinewidth\":0,\"ticks\":\"\"}},\"marker\":{\"colorbar\":{\"outlinewidth\":0,\"ticks\":\"\"}}}],\"scattermapbox\":[{\"type\":\"scattermapbox\",\"marker\":{\"colorbar\":{\"outlinewidth\":0,\"ticks\":\"\"}}}],\"scatterternary\":[{\"type\":\"scatterternary\",\"marker\":{\"colorbar\":{\"outlinewidth\":0,\"ticks\":\"\"}}}],\"scattercarpet\":[{\"type\":\"scattercarpet\",\"marker\":{\"colorbar\":{\"outlinewidth\":0,\"ticks\":\"\"}}}],\"carpet\":[{\"aaxis\":{\"endlinecolor\":\"#2a3f5f\",\"gridcolor\":\"white\",\"linecolor\":\"white\",\"minorgridcolor\":\"white\",\"startlinecolor\":\"#2a3f5f\"},\"baxis\":{\"endlinecolor\":\"#2a3f5f\",\"gridcolor\":\"white\",\"linecolor\":\"white\",\"minorgridcolor\":\"white\",\"startlinecolor\":\"#2a3f5f\"},\"type\":\"carpet\"}],\"table\":[{\"cells\":{\"fill\":{\"color\":\"#EBF0F8\"},\"line\":{\"color\":\"white\"}},\"header\":{\"fill\":{\"color\":\"#C8D4E3\"},\"line\":{\"color\":\"white\"}},\"type\":\"table\"}],\"barpolar\":[{\"marker\":{\"line\":{\"color\":\"#E5ECF6\",\"width\":0.5},\"pattern\":{\"fillmode\":\"overlay\",\"size\":10,\"solidity\":0.2}},\"type\":\"barpolar\"}],\"pie\":[{\"automargin\":true,\"type\":\"pie\"}]},\"layout\":{\"autotypenumbers\":\"strict\",\"colorway\":[\"#636efa\",\"#EF553B\",\"#00cc96\",\"#ab63fa\",\"#FFA15A\",\"#19d3f3\",\"#FF6692\",\"#B6E880\",\"#FF97FF\",\"#FECB52\"],\"font\":{\"color\":\"#2a3f5f\"},\"hovermode\":\"closest\",\"hoverlabel\":{\"align\":\"left\"},\"paper_bgcolor\":\"white\",\"plot_bgcolor\":\"#E5ECF6\",\"polar\":{\"bgcolor\":\"#E5ECF6\",\"angularaxis\":{\"gridcolor\":\"white\",\"linecolor\":\"white\",\"ticks\":\"\"},\"radialaxis\":{\"gridcolor\":\"white\",\"linecolor\":\"white\",\"ticks\":\"\"}},\"ternary\":{\"bgcolor\":\"#E5ECF6\",\"aaxis\":{\"gridcolor\":\"white\",\"linecolor\":\"white\",\"ticks\":\"\"},\"baxis\":{\"gridcolor\":\"white\",\"linecolor\":\"white\",\"ticks\":\"\"},\"caxis\":{\"gridcolor\":\"white\",\"linecolor\":\"white\",\"ticks\":\"\"}},\"coloraxis\":{\"colorbar\":{\"outlinewidth\":0,\"ticks\":\"\"}},\"colorscale\":{\"sequential\":[[0.0,\"#0d0887\"],[0.1111111111111111,\"#46039f\"],[0.2222222222222222,\"#7201a8\"],[0.3333333333333333,\"#9c179e\"],[0.4444444444444444,\"#bd3786\"],[0.5555555555555556,\"#d8576b\"],[0.6666666666666666,\"#ed7953\"],[0.7777777777777778,\"#fb9f3a\"],[0.8888888888888888,\"#fdca26\"],[1.0,\"#f0f921\"]],\"sequentialminus\":[[0.0,\"#0d0887\"],[0.1111111111111111,\"#46039f\"],[0.2222222222222222,\"#7201a8\"],[0.3333333333333333,\"#9c179e\"],[0.4444444444444444,\"#bd3786\"],[0.5555555555555556,\"#d8576b\"],[0.6666666666666666,\"#ed7953\"],[0.7777777777777778,\"#fb9f3a\"],[0.8888888888888888,\"#fdca26\"],[1.0,\"#f0f921\"]],\"diverging\":[[0,\"#8e0152\"],[0.1,\"#c51b7d\"],[0.2,\"#de77ae\"],[0.3,\"#f1b6da\"],[0.4,\"#fde0ef\"],[0.5,\"#f7f7f7\"],[0.6,\"#e6f5d0\"],[0.7,\"#b8e186\"],[0.8,\"#7fbc41\"],[0.9,\"#4d9221\"],[1,\"#276419\"]]},\"xaxis\":{\"gridcolor\":\"white\",\"linecolor\":\"white\",\"ticks\":\"\",\"title\":{\"standoff\":15},\"zerolinecolor\":\"white\",\"automargin\":true,\"zerolinewidth\":2},\"yaxis\":{\"gridcolor\":\"white\",\"linecolor\":\"white\",\"ticks\":\"\",\"title\":{\"standoff\":15},\"zerolinecolor\":\"white\",\"automargin\":true,\"zerolinewidth\":2},\"scene\":{\"xaxis\":{\"backgroundcolor\":\"#E5ECF6\",\"gridcolor\":\"white\",\"linecolor\":\"white\",\"showbackground\":true,\"ticks\":\"\",\"zerolinecolor\":\"white\",\"gridwidth\":2},\"yaxis\":{\"backgroundcolor\":\"#E5ECF6\",\"gridcolor\":\"white\",\"linecolor\":\"white\",\"showbackground\":true,\"ticks\":\"\",\"zerolinecolor\":\"white\",\"gridwidth\":2},\"zaxis\":{\"backgroundcolor\":\"#E5ECF6\",\"gridcolor\":\"white\",\"linecolor\":\"white\",\"showbackground\":true,\"ticks\":\"\",\"zerolinecolor\":\"white\",\"gridwidth\":2}},\"shapedefaults\":{\"line\":{\"color\":\"#2a3f5f\"}},\"annotationdefaults\":{\"arrowcolor\":\"#2a3f5f\",\"arrowhead\":0,\"arrowwidth\":1},\"geo\":{\"bgcolor\":\"white\",\"landcolor\":\"#E5ECF6\",\"subunitcolor\":\"white\",\"showland\":true,\"showlakes\":true,\"lakecolor\":\"white\"},\"title\":{\"x\":0.05},\"mapbox\":{\"style\":\"light\"}}},\"legend\":{\"orientation\":\"h\",\"yanchor\":\"bottom\",\"y\":1.02,\"xanchor\":\"right\",\"x\":1},\"xaxis\":{\"title\":{\"text\":\"Month\"},\"tickmode\":\"array\",\"tickvals\":[1,2,3,4,5,6,7,8,9,10,11,12],\"ticktext\":[\"Jan\",\"Feb\",\"Mar\",\"Apr\",\"May\",\"Jun\",\"Jul\",\"Aug\",\"Sep\",\"Oct\",\"Nov\",\"Dec\"]},\"title\":{\"text\":\"Forecasted Demand for 2024\"},\"yaxis\":{\"title\":{\"text\":\"Demand\"}},\"barmode\":\"group\",\"showlegend\":true},                        {\"responsive\": true}                    ).then(function(){\n",
       "                            \n",
       "var gd = document.getElementById('436d3ac5-a7d5-4cd7-bdd6-b8879eedcfc6');\n",
       "var x = new MutationObserver(function (mutations, observer) {{\n",
       "        var display = window.getComputedStyle(gd).display;\n",
       "        if (!display || display === 'none') {{\n",
       "            console.log([gd, 'removed!']);\n",
       "            Plotly.purge(gd);\n",
       "            observer.disconnect();\n",
       "        }}\n",
       "}});\n",
       "\n",
       "// Listen for the removal of the full notebook cells\n",
       "var notebookContainer = gd.closest('#notebook-container');\n",
       "if (notebookContainer) {{\n",
       "    x.observe(notebookContainer, {childList: true});\n",
       "}}\n",
       "\n",
       "// Listen for the clearing of the current output cell\n",
       "var outputEl = gd.closest('.output');\n",
       "if (outputEl) {{\n",
       "    x.observe(outputEl, {childList: true});\n",
       "}}\n",
       "\n",
       "                        })                };                });            </script>        </div>"
      ]
     },
     "metadata": {},
     "output_type": "display_data"
    }
   ],
   "source": [
    "# Visualizing using plotly\n",
    "\n",
    "import plotly.graph_objects as go\n",
    "#  Visualize the forecasted demand for the year 2024 using bar plots for each month with Plotly\n",
    "fig = go.Figure()\n",
    "# Define a color palette for the products\n",
    "colors = ['blue', 'green', 'orange', 'red']\n",
    "months = list(range(1, 13))  # Convert range to list\n",
    "bar_width = 0.2\n",
    "index = np.arange(len(months))\n",
    "\n",
    "for i, product in enumerate(y.columns, 1):\n",
    "    fig.add_trace(go.Bar(\n",
    "        x=months,\n",
    "        y=forecasted_demand_2024[product],\n",
    "        name=f'{product} ',\n",
    "        marker_color=colors[i-1],  # Assign color from the color palette\n",
    "        hoverinfo='y',\n",
    "        text=[f'Forecasted Demand: {int(val)}' for val in forecasted_demand_2024[product]],\n",
    "        textposition='outside',\n",
    "        textfont=dict(color='black'),\n",
    "        opacity=0.8\n",
    "    ))\n",
    "\n",
    "fig.update_layout(\n",
    "    title='Forecasted Demand for 2024',\n",
    "    xaxis_title='Month',\n",
    "    yaxis_title='Demand',\n",
    "    barmode='group',\n",
    "    showlegend=True,\n",
    "    legend=dict(\n",
    "        orientation='h',\n",
    "        yanchor='bottom',\n",
    "        y=1.02,\n",
    "        xanchor='right',\n",
    "        x=1\n",
    "    ),\n",
    "    xaxis=dict(\n",
    "        tickmode='array',  # Set tick mode to array\n",
    "        tickvals=list(range(1, 13)),  # Specify tick values as month numbers\n",
    "        ticktext=['Jan', 'Feb', 'Mar', 'Apr', 'May', 'Jun', 'Jul', 'Aug', 'Sep', 'Oct', 'Nov', 'Dec'],  # Specify tick text as month names\n",
    "    )\n",
    ")\n",
    "fig.show()"
   ]
  },
  {
   "cell_type": "code",
   "execution_count": 63,
   "id": "83ff62eb",
   "metadata": {},
   "outputs": [
    {
     "data": {
      "application/vnd.plotly.v1+json": {
       "config": {
        "plotlyServerURL": "https://plot.ly"
       },
       "data": [
        {
         "hoverinfo": "y",
         "marker": {
          "color": "blue"
         },
         "name": "lemonade_demand",
         "opacity": 0.8,
         "showlegend": false,
         "text": [
          "Forecasted Demand: 41",
          "Forecasted Demand: 571",
          "Forecasted Demand: 526",
          "Forecasted Demand: 370",
          "Forecasted Demand: 360",
          "Forecasted Demand: 463",
          "Forecasted Demand: 229",
          "Forecasted Demand: 59",
          "Forecasted Demand: 94",
          "Forecasted Demand: 289",
          "Forecasted Demand: 225",
          "Forecasted Demand: 201"
         ],
         "textfont": {
          "color": "black"
         },
         "textposition": "outside",
         "type": "bar",
         "x": [
          1,
          2,
          3,
          4,
          5,
          6,
          7,
          8,
          9,
          10,
          11,
          12
         ],
         "y": [
          41.04,
          571.85,
          526.43,
          370.79,
          360.11,
          463.35,
          229.15,
          59.1,
          94.04,
          289.66,
          225.44,
          201.21
         ]
        },
        {
         "hoverinfo": "y",
         "marker": {
          "color": "green"
         },
         "name": "iced_tea_demand",
         "opacity": 0.8,
         "showlegend": false,
         "text": [
          "Forecasted Demand: 47",
          "Forecasted Demand: 246",
          "Forecasted Demand: 251",
          "Forecasted Demand: 481",
          "Forecasted Demand: 301",
          "Forecasted Demand: 277",
          "Forecasted Demand: 39",
          "Forecasted Demand: 69",
          "Forecasted Demand: 160",
          "Forecasted Demand: 100",
          "Forecasted Demand: 24",
          "Forecasted Demand: 223"
         ],
         "textfont": {
          "color": "black"
         },
         "textposition": "outside",
         "type": "bar",
         "x": [
          1,
          2,
          3,
          4,
          5,
          6,
          7,
          8,
          9,
          10,
          11,
          12
         ],
         "y": [
          47.16,
          246.31,
          251.31,
          481.12,
          301.2,
          277.1,
          39.19,
          69.39,
          160.22,
          100.91,
          24.62,
          223.45
         ]
        },
        {
         "hoverinfo": "y",
         "marker": {
          "color": "orange"
         },
         "name": "hot_cocoa_demand",
         "opacity": 0.8,
         "showlegend": false,
         "text": [
          "Forecasted Demand: 336",
          "Forecasted Demand: 177",
          "Forecasted Demand: 223",
          "Forecasted Demand: 114",
          "Forecasted Demand: 244",
          "Forecasted Demand: 55",
          "Forecasted Demand: 460",
          "Forecasted Demand: 278",
          "Forecasted Demand: 311",
          "Forecasted Demand: 489",
          "Forecasted Demand: 332",
          "Forecasted Demand: 348"
         ],
         "textfont": {
          "color": "black"
         },
         "textposition": "outside",
         "type": "bar",
         "x": [
          1,
          2,
          3,
          4,
          5,
          6,
          7,
          8,
          9,
          10,
          11,
          12
         ],
         "y": [
          336.88,
          177.19,
          223.85,
          114.68,
          244.31,
          55.24,
          460.07,
          278.39,
          311.12,
          489.57,
          332.25,
          348.48
         ]
        },
        {
         "hoverinfo": "y",
         "marker": {
          "color": "red"
         },
         "name": "snacks_demand",
         "opacity": 0.8,
         "showlegend": false,
         "text": [
          "Forecasted Demand: 573",
          "Forecasted Demand: 36",
          "Forecasted Demand: 228",
          "Forecasted Demand: 154",
          "Forecasted Demand: 169",
          "Forecasted Demand: 103",
          "Forecasted Demand: 433",
          "Forecasted Demand: 540",
          "Forecasted Demand: 514",
          "Forecasted Demand: 502",
          "Forecasted Demand: 489",
          "Forecasted Demand: 511"
         ],
         "textfont": {
          "color": "black"
         },
         "textposition": "outside",
         "type": "bar",
         "x": [
          1,
          2,
          3,
          4,
          5,
          6,
          7,
          8,
          9,
          10,
          11,
          12
         ],
         "y": [
          573.26,
          36.54,
          228.28,
          154.24,
          169.12,
          103.45,
          433.96,
          540.53,
          514.84,
          502.5,
          489.61,
          511.69
         ]
        },
        {
         "marker": {
          "color": "blue"
         },
         "name": "lemonade_demand",
         "showlegend": true,
         "type": "bar",
         "x": [
          null
         ],
         "y": [
          null
         ]
        },
        {
         "marker": {
          "color": "green"
         },
         "name": "iced_tea_demand",
         "showlegend": true,
         "type": "bar",
         "x": [
          null
         ],
         "y": [
          null
         ]
        },
        {
         "marker": {
          "color": "orange"
         },
         "name": "hot_cocoa_demand",
         "showlegend": true,
         "type": "bar",
         "x": [
          null
         ],
         "y": [
          null
         ]
        },
        {
         "marker": {
          "color": "red"
         },
         "name": "snacks_demand",
         "showlegend": true,
         "type": "bar",
         "x": [
          null
         ],
         "y": [
          null
         ]
        }
       ],
       "frames": [
        {
         "data": [
          {
           "hoverinfo": "y",
           "marker": {
            "color": "blue"
           },
           "name": "lemonade_demand",
           "opacity": 0.8,
           "showlegend": false,
           "text": [
            "Forecasted Demand: 41",
            "Forecasted Demand: 571",
            "Forecasted Demand: 526",
            "Forecasted Demand: 370",
            "Forecasted Demand: 360",
            "Forecasted Demand: 463",
            "Forecasted Demand: 229",
            "Forecasted Demand: 59",
            "Forecasted Demand: 94",
            "Forecasted Demand: 289",
            "Forecasted Demand: 225",
            "Forecasted Demand: 201"
           ],
           "textfont": {
            "color": "black"
           },
           "textposition": "outside",
           "type": "bar",
           "x": [
            1,
            2,
            3,
            4,
            5,
            6,
            7,
            8,
            9,
            10,
            11,
            12
           ],
           "y": [
            41.04,
            571.85,
            526.43,
            370.79,
            360.11,
            463.35,
            229.15,
            59.1,
            94.04,
            289.66,
            225.44,
            201.21
           ]
          }
         ],
         "name": "Initial lemonade_demand"
        },
        {
         "data": [
          {
           "hoverinfo": "y",
           "marker": {
            "color": "blue"
           },
           "name": "lemonade_demand",
           "opacity": 0.8,
           "showlegend": false,
           "text": [
            "Forecasted Demand: 41",
            "Forecasted Demand: 571",
            "Forecasted Demand: 526",
            "Forecasted Demand: 370",
            "Forecasted Demand: 360",
            "Forecasted Demand: 463",
            "Forecasted Demand: 229",
            "Forecasted Demand: 59",
            "Forecasted Demand: 94",
            "Forecasted Demand: 289",
            "Forecasted Demand: 225",
            "Forecasted Demand: 201"
           ],
           "textfont": {
            "color": "black"
           },
           "textposition": "outside",
           "type": "bar",
           "x": [
            1,
            2,
            3,
            4,
            5,
            6,
            7,
            8,
            9,
            10,
            11,
            12
           ],
           "y": [
            41.04,
            571.85,
            526.43,
            370.79,
            360.11,
            463.35,
            229.15,
            59.1,
            94.04,
            289.66,
            225.44,
            201.21
           ]
          }
         ],
         "name": "Final lemonade_demand"
        },
        {
         "data": [
          {
           "hoverinfo": "y",
           "marker": {
            "color": "green"
           },
           "name": "iced_tea_demand",
           "opacity": 0.8,
           "showlegend": false,
           "text": [
            "Forecasted Demand: 47",
            "Forecasted Demand: 246",
            "Forecasted Demand: 251",
            "Forecasted Demand: 481",
            "Forecasted Demand: 301",
            "Forecasted Demand: 277",
            "Forecasted Demand: 39",
            "Forecasted Demand: 69",
            "Forecasted Demand: 160",
            "Forecasted Demand: 100",
            "Forecasted Demand: 24",
            "Forecasted Demand: 223"
           ],
           "textfont": {
            "color": "black"
           },
           "textposition": "outside",
           "type": "bar",
           "x": [
            1,
            2,
            3,
            4,
            5,
            6,
            7,
            8,
            9,
            10,
            11,
            12
           ],
           "y": [
            47.16,
            246.31,
            251.31,
            481.12,
            301.2,
            277.1,
            39.19,
            69.39,
            160.22,
            100.91,
            24.62,
            223.45
           ]
          }
         ],
         "name": "Initial iced_tea_demand"
        },
        {
         "data": [
          {
           "hoverinfo": "y",
           "marker": {
            "color": "green"
           },
           "name": "iced_tea_demand",
           "opacity": 0.8,
           "showlegend": false,
           "text": [
            "Forecasted Demand: 47",
            "Forecasted Demand: 246",
            "Forecasted Demand: 251",
            "Forecasted Demand: 481",
            "Forecasted Demand: 301",
            "Forecasted Demand: 277",
            "Forecasted Demand: 39",
            "Forecasted Demand: 69",
            "Forecasted Demand: 160",
            "Forecasted Demand: 100",
            "Forecasted Demand: 24",
            "Forecasted Demand: 223"
           ],
           "textfont": {
            "color": "black"
           },
           "textposition": "outside",
           "type": "bar",
           "x": [
            1,
            2,
            3,
            4,
            5,
            6,
            7,
            8,
            9,
            10,
            11,
            12
           ],
           "y": [
            47.16,
            246.31,
            251.31,
            481.12,
            301.2,
            277.1,
            39.19,
            69.39,
            160.22,
            100.91,
            24.62,
            223.45
           ]
          }
         ],
         "name": "Final iced_tea_demand"
        },
        {
         "data": [
          {
           "hoverinfo": "y",
           "marker": {
            "color": "orange"
           },
           "name": "hot_cocoa_demand",
           "opacity": 0.8,
           "showlegend": false,
           "text": [
            "Forecasted Demand: 336",
            "Forecasted Demand: 177",
            "Forecasted Demand: 223",
            "Forecasted Demand: 114",
            "Forecasted Demand: 244",
            "Forecasted Demand: 55",
            "Forecasted Demand: 460",
            "Forecasted Demand: 278",
            "Forecasted Demand: 311",
            "Forecasted Demand: 489",
            "Forecasted Demand: 332",
            "Forecasted Demand: 348"
           ],
           "textfont": {
            "color": "black"
           },
           "textposition": "outside",
           "type": "bar",
           "x": [
            1,
            2,
            3,
            4,
            5,
            6,
            7,
            8,
            9,
            10,
            11,
            12
           ],
           "y": [
            336.88,
            177.19,
            223.85,
            114.68,
            244.31,
            55.24,
            460.07,
            278.39,
            311.12,
            489.57,
            332.25,
            348.48
           ]
          }
         ],
         "name": "Initial hot_cocoa_demand"
        },
        {
         "data": [
          {
           "hoverinfo": "y",
           "marker": {
            "color": "orange"
           },
           "name": "hot_cocoa_demand",
           "opacity": 0.8,
           "showlegend": false,
           "text": [
            "Forecasted Demand: 336",
            "Forecasted Demand: 177",
            "Forecasted Demand: 223",
            "Forecasted Demand: 114",
            "Forecasted Demand: 244",
            "Forecasted Demand: 55",
            "Forecasted Demand: 460",
            "Forecasted Demand: 278",
            "Forecasted Demand: 311",
            "Forecasted Demand: 489",
            "Forecasted Demand: 332",
            "Forecasted Demand: 348"
           ],
           "textfont": {
            "color": "black"
           },
           "textposition": "outside",
           "type": "bar",
           "x": [
            1,
            2,
            3,
            4,
            5,
            6,
            7,
            8,
            9,
            10,
            11,
            12
           ],
           "y": [
            336.88,
            177.19,
            223.85,
            114.68,
            244.31,
            55.24,
            460.07,
            278.39,
            311.12,
            489.57,
            332.25,
            348.48
           ]
          }
         ],
         "name": "Final hot_cocoa_demand"
        },
        {
         "data": [
          {
           "hoverinfo": "y",
           "marker": {
            "color": "red"
           },
           "name": "snacks_demand",
           "opacity": 0.8,
           "showlegend": false,
           "text": [
            "Forecasted Demand: 573",
            "Forecasted Demand: 36",
            "Forecasted Demand: 228",
            "Forecasted Demand: 154",
            "Forecasted Demand: 169",
            "Forecasted Demand: 103",
            "Forecasted Demand: 433",
            "Forecasted Demand: 540",
            "Forecasted Demand: 514",
            "Forecasted Demand: 502",
            "Forecasted Demand: 489",
            "Forecasted Demand: 511"
           ],
           "textfont": {
            "color": "black"
           },
           "textposition": "outside",
           "type": "bar",
           "x": [
            1,
            2,
            3,
            4,
            5,
            6,
            7,
            8,
            9,
            10,
            11,
            12
           ],
           "y": [
            573.26,
            36.54,
            228.28,
            154.24,
            169.12,
            103.45,
            433.96,
            540.53,
            514.84,
            502.5,
            489.61,
            511.69
           ]
          }
         ],
         "name": "Initial snacks_demand"
        },
        {
         "data": [
          {
           "hoverinfo": "y",
           "marker": {
            "color": "red"
           },
           "name": "snacks_demand",
           "opacity": 0.8,
           "showlegend": false,
           "text": [
            "Forecasted Demand: 573",
            "Forecasted Demand: 36",
            "Forecasted Demand: 228",
            "Forecasted Demand: 154",
            "Forecasted Demand: 169",
            "Forecasted Demand: 103",
            "Forecasted Demand: 433",
            "Forecasted Demand: 540",
            "Forecasted Demand: 514",
            "Forecasted Demand: 502",
            "Forecasted Demand: 489",
            "Forecasted Demand: 511"
           ],
           "textfont": {
            "color": "black"
           },
           "textposition": "outside",
           "type": "bar",
           "x": [
            1,
            2,
            3,
            4,
            5,
            6,
            7,
            8,
            9,
            10,
            11,
            12
           ],
           "y": [
            573.26,
            36.54,
            228.28,
            154.24,
            169.12,
            103.45,
            433.96,
            540.53,
            514.84,
            502.5,
            489.61,
            511.69
           ]
          }
         ],
         "name": "Final snacks_demand"
        }
       ],
       "layout": {
        "barmode": "group",
        "legend": {
         "orientation": "h",
         "x": 1,
         "xanchor": "right",
         "y": 1.02,
         "yanchor": "bottom"
        },
        "showlegend": true,
        "sliders": [
         {
          "active": 0,
          "currentvalue": {
           "prefix": "Product: ",
           "visible": false,
           "xanchor": "right"
          },
          "len": 0.9,
          "pad": {
           "b": 10,
           "t": 50
          },
          "steps": [
           {
            "args": [
             [
              "Initial lemonade_demand"
             ],
             {
              "frame": {
               "duration": 1000,
               "redraw": true
              },
              "mode": "immediate",
              "transition": {
               "duration": 0
              }
             }
            ],
            "label": "lemonade_demand",
            "method": "animate"
           },
           {
            "args": [
             [
              "Final lemonade_demand"
             ],
             {
              "frame": {
               "duration": 1000,
               "redraw": true
              },
              "mode": "immediate",
              "transition": {
               "duration": 0
              }
             }
            ],
            "label": "lemonade_demand",
            "method": "animate"
           },
           {
            "args": [
             [
              "Initial iced_tea_demand"
             ],
             {
              "frame": {
               "duration": 1000,
               "redraw": true
              },
              "mode": "immediate",
              "transition": {
               "duration": 0
              }
             }
            ],
            "label": "iced_tea_demand",
            "method": "animate"
           },
           {
            "args": [
             [
              "Final iced_tea_demand"
             ],
             {
              "frame": {
               "duration": 1000,
               "redraw": true
              },
              "mode": "immediate",
              "transition": {
               "duration": 0
              }
             }
            ],
            "label": "iced_tea_demand",
            "method": "animate"
           },
           {
            "args": [
             [
              "Initial hot_cocoa_demand"
             ],
             {
              "frame": {
               "duration": 1000,
               "redraw": true
              },
              "mode": "immediate",
              "transition": {
               "duration": 0
              }
             }
            ],
            "label": "hot_cocoa_demand",
            "method": "animate"
           },
           {
            "args": [
             [
              "Final hot_cocoa_demand"
             ],
             {
              "frame": {
               "duration": 1000,
               "redraw": true
              },
              "mode": "immediate",
              "transition": {
               "duration": 0
              }
             }
            ],
            "label": "hot_cocoa_demand",
            "method": "animate"
           },
           {
            "args": [
             [
              "Initial snacks_demand"
             ],
             {
              "frame": {
               "duration": 1000,
               "redraw": true
              },
              "mode": "immediate",
              "transition": {
               "duration": 0
              }
             }
            ],
            "label": "snacks_demand",
            "method": "animate"
           },
           {
            "args": [
             [
              "Final snacks_demand"
             ],
             {
              "frame": {
               "duration": 1000,
               "redraw": true
              },
              "mode": "immediate",
              "transition": {
               "duration": 0
              }
             }
            ],
            "label": "snacks_demand",
            "method": "animate"
           }
          ],
          "x": 0.1,
          "xanchor": "left",
          "y": 0,
          "yanchor": "top"
         }
        ],
        "template": {
         "data": {
          "bar": [
           {
            "error_x": {
             "color": "#2a3f5f"
            },
            "error_y": {
             "color": "#2a3f5f"
            },
            "marker": {
             "line": {
              "color": "#E5ECF6",
              "width": 0.5
             },
             "pattern": {
              "fillmode": "overlay",
              "size": 10,
              "solidity": 0.2
             }
            },
            "type": "bar"
           }
          ],
          "barpolar": [
           {
            "marker": {
             "line": {
              "color": "#E5ECF6",
              "width": 0.5
             },
             "pattern": {
              "fillmode": "overlay",
              "size": 10,
              "solidity": 0.2
             }
            },
            "type": "barpolar"
           }
          ],
          "carpet": [
           {
            "aaxis": {
             "endlinecolor": "#2a3f5f",
             "gridcolor": "white",
             "linecolor": "white",
             "minorgridcolor": "white",
             "startlinecolor": "#2a3f5f"
            },
            "baxis": {
             "endlinecolor": "#2a3f5f",
             "gridcolor": "white",
             "linecolor": "white",
             "minorgridcolor": "white",
             "startlinecolor": "#2a3f5f"
            },
            "type": "carpet"
           }
          ],
          "choropleth": [
           {
            "colorbar": {
             "outlinewidth": 0,
             "ticks": ""
            },
            "type": "choropleth"
           }
          ],
          "contour": [
           {
            "colorbar": {
             "outlinewidth": 0,
             "ticks": ""
            },
            "colorscale": [
             [
              0,
              "#0d0887"
             ],
             [
              0.1111111111111111,
              "#46039f"
             ],
             [
              0.2222222222222222,
              "#7201a8"
             ],
             [
              0.3333333333333333,
              "#9c179e"
             ],
             [
              0.4444444444444444,
              "#bd3786"
             ],
             [
              0.5555555555555556,
              "#d8576b"
             ],
             [
              0.6666666666666666,
              "#ed7953"
             ],
             [
              0.7777777777777778,
              "#fb9f3a"
             ],
             [
              0.8888888888888888,
              "#fdca26"
             ],
             [
              1,
              "#f0f921"
             ]
            ],
            "type": "contour"
           }
          ],
          "contourcarpet": [
           {
            "colorbar": {
             "outlinewidth": 0,
             "ticks": ""
            },
            "type": "contourcarpet"
           }
          ],
          "heatmap": [
           {
            "colorbar": {
             "outlinewidth": 0,
             "ticks": ""
            },
            "colorscale": [
             [
              0,
              "#0d0887"
             ],
             [
              0.1111111111111111,
              "#46039f"
             ],
             [
              0.2222222222222222,
              "#7201a8"
             ],
             [
              0.3333333333333333,
              "#9c179e"
             ],
             [
              0.4444444444444444,
              "#bd3786"
             ],
             [
              0.5555555555555556,
              "#d8576b"
             ],
             [
              0.6666666666666666,
              "#ed7953"
             ],
             [
              0.7777777777777778,
              "#fb9f3a"
             ],
             [
              0.8888888888888888,
              "#fdca26"
             ],
             [
              1,
              "#f0f921"
             ]
            ],
            "type": "heatmap"
           }
          ],
          "heatmapgl": [
           {
            "colorbar": {
             "outlinewidth": 0,
             "ticks": ""
            },
            "colorscale": [
             [
              0,
              "#0d0887"
             ],
             [
              0.1111111111111111,
              "#46039f"
             ],
             [
              0.2222222222222222,
              "#7201a8"
             ],
             [
              0.3333333333333333,
              "#9c179e"
             ],
             [
              0.4444444444444444,
              "#bd3786"
             ],
             [
              0.5555555555555556,
              "#d8576b"
             ],
             [
              0.6666666666666666,
              "#ed7953"
             ],
             [
              0.7777777777777778,
              "#fb9f3a"
             ],
             [
              0.8888888888888888,
              "#fdca26"
             ],
             [
              1,
              "#f0f921"
             ]
            ],
            "type": "heatmapgl"
           }
          ],
          "histogram": [
           {
            "marker": {
             "pattern": {
              "fillmode": "overlay",
              "size": 10,
              "solidity": 0.2
             }
            },
            "type": "histogram"
           }
          ],
          "histogram2d": [
           {
            "colorbar": {
             "outlinewidth": 0,
             "ticks": ""
            },
            "colorscale": [
             [
              0,
              "#0d0887"
             ],
             [
              0.1111111111111111,
              "#46039f"
             ],
             [
              0.2222222222222222,
              "#7201a8"
             ],
             [
              0.3333333333333333,
              "#9c179e"
             ],
             [
              0.4444444444444444,
              "#bd3786"
             ],
             [
              0.5555555555555556,
              "#d8576b"
             ],
             [
              0.6666666666666666,
              "#ed7953"
             ],
             [
              0.7777777777777778,
              "#fb9f3a"
             ],
             [
              0.8888888888888888,
              "#fdca26"
             ],
             [
              1,
              "#f0f921"
             ]
            ],
            "type": "histogram2d"
           }
          ],
          "histogram2dcontour": [
           {
            "colorbar": {
             "outlinewidth": 0,
             "ticks": ""
            },
            "colorscale": [
             [
              0,
              "#0d0887"
             ],
             [
              0.1111111111111111,
              "#46039f"
             ],
             [
              0.2222222222222222,
              "#7201a8"
             ],
             [
              0.3333333333333333,
              "#9c179e"
             ],
             [
              0.4444444444444444,
              "#bd3786"
             ],
             [
              0.5555555555555556,
              "#d8576b"
             ],
             [
              0.6666666666666666,
              "#ed7953"
             ],
             [
              0.7777777777777778,
              "#fb9f3a"
             ],
             [
              0.8888888888888888,
              "#fdca26"
             ],
             [
              1,
              "#f0f921"
             ]
            ],
            "type": "histogram2dcontour"
           }
          ],
          "mesh3d": [
           {
            "colorbar": {
             "outlinewidth": 0,
             "ticks": ""
            },
            "type": "mesh3d"
           }
          ],
          "parcoords": [
           {
            "line": {
             "colorbar": {
              "outlinewidth": 0,
              "ticks": ""
             }
            },
            "type": "parcoords"
           }
          ],
          "pie": [
           {
            "automargin": true,
            "type": "pie"
           }
          ],
          "scatter": [
           {
            "fillpattern": {
             "fillmode": "overlay",
             "size": 10,
             "solidity": 0.2
            },
            "type": "scatter"
           }
          ],
          "scatter3d": [
           {
            "line": {
             "colorbar": {
              "outlinewidth": 0,
              "ticks": ""
             }
            },
            "marker": {
             "colorbar": {
              "outlinewidth": 0,
              "ticks": ""
             }
            },
            "type": "scatter3d"
           }
          ],
          "scattercarpet": [
           {
            "marker": {
             "colorbar": {
              "outlinewidth": 0,
              "ticks": ""
             }
            },
            "type": "scattercarpet"
           }
          ],
          "scattergeo": [
           {
            "marker": {
             "colorbar": {
              "outlinewidth": 0,
              "ticks": ""
             }
            },
            "type": "scattergeo"
           }
          ],
          "scattergl": [
           {
            "marker": {
             "colorbar": {
              "outlinewidth": 0,
              "ticks": ""
             }
            },
            "type": "scattergl"
           }
          ],
          "scattermapbox": [
           {
            "marker": {
             "colorbar": {
              "outlinewidth": 0,
              "ticks": ""
             }
            },
            "type": "scattermapbox"
           }
          ],
          "scatterpolar": [
           {
            "marker": {
             "colorbar": {
              "outlinewidth": 0,
              "ticks": ""
             }
            },
            "type": "scatterpolar"
           }
          ],
          "scatterpolargl": [
           {
            "marker": {
             "colorbar": {
              "outlinewidth": 0,
              "ticks": ""
             }
            },
            "type": "scatterpolargl"
           }
          ],
          "scatterternary": [
           {
            "marker": {
             "colorbar": {
              "outlinewidth": 0,
              "ticks": ""
             }
            },
            "type": "scatterternary"
           }
          ],
          "surface": [
           {
            "colorbar": {
             "outlinewidth": 0,
             "ticks": ""
            },
            "colorscale": [
             [
              0,
              "#0d0887"
             ],
             [
              0.1111111111111111,
              "#46039f"
             ],
             [
              0.2222222222222222,
              "#7201a8"
             ],
             [
              0.3333333333333333,
              "#9c179e"
             ],
             [
              0.4444444444444444,
              "#bd3786"
             ],
             [
              0.5555555555555556,
              "#d8576b"
             ],
             [
              0.6666666666666666,
              "#ed7953"
             ],
             [
              0.7777777777777778,
              "#fb9f3a"
             ],
             [
              0.8888888888888888,
              "#fdca26"
             ],
             [
              1,
              "#f0f921"
             ]
            ],
            "type": "surface"
           }
          ],
          "table": [
           {
            "cells": {
             "fill": {
              "color": "#EBF0F8"
             },
             "line": {
              "color": "white"
             }
            },
            "header": {
             "fill": {
              "color": "#C8D4E3"
             },
             "line": {
              "color": "white"
             }
            },
            "type": "table"
           }
          ]
         },
         "layout": {
          "annotationdefaults": {
           "arrowcolor": "#2a3f5f",
           "arrowhead": 0,
           "arrowwidth": 1
          },
          "autotypenumbers": "strict",
          "coloraxis": {
           "colorbar": {
            "outlinewidth": 0,
            "ticks": ""
           }
          },
          "colorscale": {
           "diverging": [
            [
             0,
             "#8e0152"
            ],
            [
             0.1,
             "#c51b7d"
            ],
            [
             0.2,
             "#de77ae"
            ],
            [
             0.3,
             "#f1b6da"
            ],
            [
             0.4,
             "#fde0ef"
            ],
            [
             0.5,
             "#f7f7f7"
            ],
            [
             0.6,
             "#e6f5d0"
            ],
            [
             0.7,
             "#b8e186"
            ],
            [
             0.8,
             "#7fbc41"
            ],
            [
             0.9,
             "#4d9221"
            ],
            [
             1,
             "#276419"
            ]
           ],
           "sequential": [
            [
             0,
             "#0d0887"
            ],
            [
             0.1111111111111111,
             "#46039f"
            ],
            [
             0.2222222222222222,
             "#7201a8"
            ],
            [
             0.3333333333333333,
             "#9c179e"
            ],
            [
             0.4444444444444444,
             "#bd3786"
            ],
            [
             0.5555555555555556,
             "#d8576b"
            ],
            [
             0.6666666666666666,
             "#ed7953"
            ],
            [
             0.7777777777777778,
             "#fb9f3a"
            ],
            [
             0.8888888888888888,
             "#fdca26"
            ],
            [
             1,
             "#f0f921"
            ]
           ],
           "sequentialminus": [
            [
             0,
             "#0d0887"
            ],
            [
             0.1111111111111111,
             "#46039f"
            ],
            [
             0.2222222222222222,
             "#7201a8"
            ],
            [
             0.3333333333333333,
             "#9c179e"
            ],
            [
             0.4444444444444444,
             "#bd3786"
            ],
            [
             0.5555555555555556,
             "#d8576b"
            ],
            [
             0.6666666666666666,
             "#ed7953"
            ],
            [
             0.7777777777777778,
             "#fb9f3a"
            ],
            [
             0.8888888888888888,
             "#fdca26"
            ],
            [
             1,
             "#f0f921"
            ]
           ]
          },
          "colorway": [
           "#636efa",
           "#EF553B",
           "#00cc96",
           "#ab63fa",
           "#FFA15A",
           "#19d3f3",
           "#FF6692",
           "#B6E880",
           "#FF97FF",
           "#FECB52"
          ],
          "font": {
           "color": "#2a3f5f"
          },
          "geo": {
           "bgcolor": "white",
           "lakecolor": "white",
           "landcolor": "#E5ECF6",
           "showlakes": true,
           "showland": true,
           "subunitcolor": "white"
          },
          "hoverlabel": {
           "align": "left"
          },
          "hovermode": "closest",
          "mapbox": {
           "style": "light"
          },
          "paper_bgcolor": "white",
          "plot_bgcolor": "#E5ECF6",
          "polar": {
           "angularaxis": {
            "gridcolor": "white",
            "linecolor": "white",
            "ticks": ""
           },
           "bgcolor": "#E5ECF6",
           "radialaxis": {
            "gridcolor": "white",
            "linecolor": "white",
            "ticks": ""
           }
          },
          "scene": {
           "xaxis": {
            "backgroundcolor": "#E5ECF6",
            "gridcolor": "white",
            "gridwidth": 2,
            "linecolor": "white",
            "showbackground": true,
            "ticks": "",
            "zerolinecolor": "white"
           },
           "yaxis": {
            "backgroundcolor": "#E5ECF6",
            "gridcolor": "white",
            "gridwidth": 2,
            "linecolor": "white",
            "showbackground": true,
            "ticks": "",
            "zerolinecolor": "white"
           },
           "zaxis": {
            "backgroundcolor": "#E5ECF6",
            "gridcolor": "white",
            "gridwidth": 2,
            "linecolor": "white",
            "showbackground": true,
            "ticks": "",
            "zerolinecolor": "white"
           }
          },
          "shapedefaults": {
           "line": {
            "color": "#2a3f5f"
           }
          },
          "ternary": {
           "aaxis": {
            "gridcolor": "white",
            "linecolor": "white",
            "ticks": ""
           },
           "baxis": {
            "gridcolor": "white",
            "linecolor": "white",
            "ticks": ""
           },
           "bgcolor": "#E5ECF6",
           "caxis": {
            "gridcolor": "white",
            "linecolor": "white",
            "ticks": ""
           }
          },
          "title": {
           "x": 0.05
          },
          "xaxis": {
           "automargin": true,
           "gridcolor": "white",
           "linecolor": "white",
           "ticks": "",
           "title": {
            "standoff": 15
           },
           "zerolinecolor": "white",
           "zerolinewidth": 2
          },
          "yaxis": {
           "automargin": true,
           "gridcolor": "white",
           "linecolor": "white",
           "ticks": "",
           "title": {
            "standoff": 15
           },
           "zerolinecolor": "white",
           "zerolinewidth": 2
          }
         }
        },
        "title": {
         "text": "Forecasted Demand for 2024"
        },
        "updatemenus": [
         {
          "buttons": [
           {
            "args": [
             null,
             {
              "frame": {
               "duration": 1000,
               "redraw": true
              },
              "fromcurrent": true
             }
            ],
            "label": "Play",
            "method": "animate"
           },
           {
            "args": [
             [
              null
             ],
             {
              "frame": {
               "duration": 0,
               "redraw": true
              },
              "mode": "immediate",
              "transition": {
               "duration": 0
              }
             }
            ],
            "label": "Pause",
            "method": "animate"
           }
          ],
          "direction": "left",
          "pad": {
           "r": 10,
           "t": 87
          },
          "showactive": false,
          "type": "buttons",
          "x": 0.1,
          "xanchor": "right",
          "y": 0,
          "yanchor": "top"
         }
        ],
        "xaxis": {
         "tickmode": "array",
         "ticktext": [
          "Jan",
          "Feb",
          "Mar",
          "Apr",
          "May",
          "Jun",
          "Jul",
          "Aug",
          "Sep",
          "Oct",
          "Nov",
          "Dec"
         ],
         "tickvals": [
          1,
          2,
          3,
          4,
          5,
          6,
          7,
          8,
          9,
          10,
          11,
          12
         ],
         "title": {
          "text": "Month"
         }
        },
        "yaxis": {
         "title": {
          "text": "Demand"
         }
        }
       }
      },
      "text/html": [
       "<div>                            <div id=\"eef76db3-6e92-449b-9a80-8a5985bedce0\" class=\"plotly-graph-div\" style=\"height:525px; width:100%;\"></div>            <script type=\"text/javascript\">                require([\"plotly\"], function(Plotly) {                    window.PLOTLYENV=window.PLOTLYENV || {};                                    if (document.getElementById(\"eef76db3-6e92-449b-9a80-8a5985bedce0\")) {                    Plotly.newPlot(                        \"eef76db3-6e92-449b-9a80-8a5985bedce0\",                        [{\"hoverinfo\":\"y\",\"marker\":{\"color\":\"blue\"},\"name\":\"lemonade_demand\",\"opacity\":0.8,\"showlegend\":false,\"text\":[\"Forecasted Demand: 41\",\"Forecasted Demand: 571\",\"Forecasted Demand: 526\",\"Forecasted Demand: 370\",\"Forecasted Demand: 360\",\"Forecasted Demand: 463\",\"Forecasted Demand: 229\",\"Forecasted Demand: 59\",\"Forecasted Demand: 94\",\"Forecasted Demand: 289\",\"Forecasted Demand: 225\",\"Forecasted Demand: 201\"],\"textfont\":{\"color\":\"black\"},\"textposition\":\"outside\",\"x\":[1,2,3,4,5,6,7,8,9,10,11,12],\"y\":[41.04,571.85,526.43,370.79,360.11,463.35,229.15,59.1,94.04,289.66,225.44,201.21],\"type\":\"bar\"},{\"hoverinfo\":\"y\",\"marker\":{\"color\":\"green\"},\"name\":\"iced_tea_demand\",\"opacity\":0.8,\"showlegend\":false,\"text\":[\"Forecasted Demand: 47\",\"Forecasted Demand: 246\",\"Forecasted Demand: 251\",\"Forecasted Demand: 481\",\"Forecasted Demand: 301\",\"Forecasted Demand: 277\",\"Forecasted Demand: 39\",\"Forecasted Demand: 69\",\"Forecasted Demand: 160\",\"Forecasted Demand: 100\",\"Forecasted Demand: 24\",\"Forecasted Demand: 223\"],\"textfont\":{\"color\":\"black\"},\"textposition\":\"outside\",\"x\":[1,2,3,4,5,6,7,8,9,10,11,12],\"y\":[47.16,246.31,251.31,481.12,301.2,277.1,39.19,69.39,160.22,100.91,24.62,223.45],\"type\":\"bar\"},{\"hoverinfo\":\"y\",\"marker\":{\"color\":\"orange\"},\"name\":\"hot_cocoa_demand\",\"opacity\":0.8,\"showlegend\":false,\"text\":[\"Forecasted Demand: 336\",\"Forecasted Demand: 177\",\"Forecasted Demand: 223\",\"Forecasted Demand: 114\",\"Forecasted Demand: 244\",\"Forecasted Demand: 55\",\"Forecasted Demand: 460\",\"Forecasted Demand: 278\",\"Forecasted Demand: 311\",\"Forecasted Demand: 489\",\"Forecasted Demand: 332\",\"Forecasted Demand: 348\"],\"textfont\":{\"color\":\"black\"},\"textposition\":\"outside\",\"x\":[1,2,3,4,5,6,7,8,9,10,11,12],\"y\":[336.88,177.19,223.85,114.68,244.31,55.24,460.07,278.39,311.12,489.57,332.25,348.48],\"type\":\"bar\"},{\"hoverinfo\":\"y\",\"marker\":{\"color\":\"red\"},\"name\":\"snacks_demand\",\"opacity\":0.8,\"showlegend\":false,\"text\":[\"Forecasted Demand: 573\",\"Forecasted Demand: 36\",\"Forecasted Demand: 228\",\"Forecasted Demand: 154\",\"Forecasted Demand: 169\",\"Forecasted Demand: 103\",\"Forecasted Demand: 433\",\"Forecasted Demand: 540\",\"Forecasted Demand: 514\",\"Forecasted Demand: 502\",\"Forecasted Demand: 489\",\"Forecasted Demand: 511\"],\"textfont\":{\"color\":\"black\"},\"textposition\":\"outside\",\"x\":[1,2,3,4,5,6,7,8,9,10,11,12],\"y\":[573.26,36.54,228.28,154.24,169.12,103.45,433.96,540.53,514.84,502.5,489.61,511.69],\"type\":\"bar\"},{\"marker\":{\"color\":\"blue\"},\"name\":\"lemonade_demand\",\"showlegend\":true,\"x\":[null],\"y\":[null],\"type\":\"bar\"},{\"marker\":{\"color\":\"green\"},\"name\":\"iced_tea_demand\",\"showlegend\":true,\"x\":[null],\"y\":[null],\"type\":\"bar\"},{\"marker\":{\"color\":\"orange\"},\"name\":\"hot_cocoa_demand\",\"showlegend\":true,\"x\":[null],\"y\":[null],\"type\":\"bar\"},{\"marker\":{\"color\":\"red\"},\"name\":\"snacks_demand\",\"showlegend\":true,\"x\":[null],\"y\":[null],\"type\":\"bar\"}],                        {\"barmode\":\"group\",\"legend\":{\"orientation\":\"h\",\"x\":1,\"xanchor\":\"right\",\"y\":1.02,\"yanchor\":\"bottom\"},\"showlegend\":true,\"sliders\":[{\"active\":0,\"currentvalue\":{\"prefix\":\"Product: \",\"visible\":false,\"xanchor\":\"right\"},\"len\":0.9,\"pad\":{\"b\":10,\"t\":50},\"steps\":[{\"args\":[[\"Initial lemonade_demand\"],{\"frame\":{\"duration\":1000,\"redraw\":true},\"mode\":\"immediate\",\"transition\":{\"duration\":0}}],\"label\":\"lemonade_demand\",\"method\":\"animate\"},{\"args\":[[\"Final lemonade_demand\"],{\"frame\":{\"duration\":1000,\"redraw\":true},\"mode\":\"immediate\",\"transition\":{\"duration\":0}}],\"label\":\"lemonade_demand\",\"method\":\"animate\"},{\"args\":[[\"Initial iced_tea_demand\"],{\"frame\":{\"duration\":1000,\"redraw\":true},\"mode\":\"immediate\",\"transition\":{\"duration\":0}}],\"label\":\"iced_tea_demand\",\"method\":\"animate\"},{\"args\":[[\"Final iced_tea_demand\"],{\"frame\":{\"duration\":1000,\"redraw\":true},\"mode\":\"immediate\",\"transition\":{\"duration\":0}}],\"label\":\"iced_tea_demand\",\"method\":\"animate\"},{\"args\":[[\"Initial hot_cocoa_demand\"],{\"frame\":{\"duration\":1000,\"redraw\":true},\"mode\":\"immediate\",\"transition\":{\"duration\":0}}],\"label\":\"hot_cocoa_demand\",\"method\":\"animate\"},{\"args\":[[\"Final hot_cocoa_demand\"],{\"frame\":{\"duration\":1000,\"redraw\":true},\"mode\":\"immediate\",\"transition\":{\"duration\":0}}],\"label\":\"hot_cocoa_demand\",\"method\":\"animate\"},{\"args\":[[\"Initial snacks_demand\"],{\"frame\":{\"duration\":1000,\"redraw\":true},\"mode\":\"immediate\",\"transition\":{\"duration\":0}}],\"label\":\"snacks_demand\",\"method\":\"animate\"},{\"args\":[[\"Final snacks_demand\"],{\"frame\":{\"duration\":1000,\"redraw\":true},\"mode\":\"immediate\",\"transition\":{\"duration\":0}}],\"label\":\"snacks_demand\",\"method\":\"animate\"}],\"x\":0.1,\"xanchor\":\"left\",\"y\":0,\"yanchor\":\"top\"}],\"title\":{\"text\":\"Forecasted Demand for 2024\"},\"updatemenus\":[{\"buttons\":[{\"args\":[null,{\"frame\":{\"duration\":1000,\"redraw\":true},\"fromcurrent\":true}],\"label\":\"Play\",\"method\":\"animate\"},{\"args\":[[null],{\"frame\":{\"duration\":0,\"redraw\":true},\"mode\":\"immediate\",\"transition\":{\"duration\":0}}],\"label\":\"Pause\",\"method\":\"animate\"}],\"direction\":\"left\",\"pad\":{\"r\":10,\"t\":87},\"showactive\":false,\"type\":\"buttons\",\"x\":0.1,\"xanchor\":\"right\",\"y\":0,\"yanchor\":\"top\"}],\"xaxis\":{\"tickmode\":\"array\",\"ticktext\":[\"Jan\",\"Feb\",\"Mar\",\"Apr\",\"May\",\"Jun\",\"Jul\",\"Aug\",\"Sep\",\"Oct\",\"Nov\",\"Dec\"],\"tickvals\":[1,2,3,4,5,6,7,8,9,10,11,12],\"title\":{\"text\":\"Month\"}},\"yaxis\":{\"title\":{\"text\":\"Demand\"}},\"template\":{\"data\":{\"histogram2dcontour\":[{\"type\":\"histogram2dcontour\",\"colorbar\":{\"outlinewidth\":0,\"ticks\":\"\"},\"colorscale\":[[0.0,\"#0d0887\"],[0.1111111111111111,\"#46039f\"],[0.2222222222222222,\"#7201a8\"],[0.3333333333333333,\"#9c179e\"],[0.4444444444444444,\"#bd3786\"],[0.5555555555555556,\"#d8576b\"],[0.6666666666666666,\"#ed7953\"],[0.7777777777777778,\"#fb9f3a\"],[0.8888888888888888,\"#fdca26\"],[1.0,\"#f0f921\"]]}],\"choropleth\":[{\"type\":\"choropleth\",\"colorbar\":{\"outlinewidth\":0,\"ticks\":\"\"}}],\"histogram2d\":[{\"type\":\"histogram2d\",\"colorbar\":{\"outlinewidth\":0,\"ticks\":\"\"},\"colorscale\":[[0.0,\"#0d0887\"],[0.1111111111111111,\"#46039f\"],[0.2222222222222222,\"#7201a8\"],[0.3333333333333333,\"#9c179e\"],[0.4444444444444444,\"#bd3786\"],[0.5555555555555556,\"#d8576b\"],[0.6666666666666666,\"#ed7953\"],[0.7777777777777778,\"#fb9f3a\"],[0.8888888888888888,\"#fdca26\"],[1.0,\"#f0f921\"]]}],\"heatmap\":[{\"type\":\"heatmap\",\"colorbar\":{\"outlinewidth\":0,\"ticks\":\"\"},\"colorscale\":[[0.0,\"#0d0887\"],[0.1111111111111111,\"#46039f\"],[0.2222222222222222,\"#7201a8\"],[0.3333333333333333,\"#9c179e\"],[0.4444444444444444,\"#bd3786\"],[0.5555555555555556,\"#d8576b\"],[0.6666666666666666,\"#ed7953\"],[0.7777777777777778,\"#fb9f3a\"],[0.8888888888888888,\"#fdca26\"],[1.0,\"#f0f921\"]]}],\"heatmapgl\":[{\"type\":\"heatmapgl\",\"colorbar\":{\"outlinewidth\":0,\"ticks\":\"\"},\"colorscale\":[[0.0,\"#0d0887\"],[0.1111111111111111,\"#46039f\"],[0.2222222222222222,\"#7201a8\"],[0.3333333333333333,\"#9c179e\"],[0.4444444444444444,\"#bd3786\"],[0.5555555555555556,\"#d8576b\"],[0.6666666666666666,\"#ed7953\"],[0.7777777777777778,\"#fb9f3a\"],[0.8888888888888888,\"#fdca26\"],[1.0,\"#f0f921\"]]}],\"contourcarpet\":[{\"type\":\"contourcarpet\",\"colorbar\":{\"outlinewidth\":0,\"ticks\":\"\"}}],\"contour\":[{\"type\":\"contour\",\"colorbar\":{\"outlinewidth\":0,\"ticks\":\"\"},\"colorscale\":[[0.0,\"#0d0887\"],[0.1111111111111111,\"#46039f\"],[0.2222222222222222,\"#7201a8\"],[0.3333333333333333,\"#9c179e\"],[0.4444444444444444,\"#bd3786\"],[0.5555555555555556,\"#d8576b\"],[0.6666666666666666,\"#ed7953\"],[0.7777777777777778,\"#fb9f3a\"],[0.8888888888888888,\"#fdca26\"],[1.0,\"#f0f921\"]]}],\"surface\":[{\"type\":\"surface\",\"colorbar\":{\"outlinewidth\":0,\"ticks\":\"\"},\"colorscale\":[[0.0,\"#0d0887\"],[0.1111111111111111,\"#46039f\"],[0.2222222222222222,\"#7201a8\"],[0.3333333333333333,\"#9c179e\"],[0.4444444444444444,\"#bd3786\"],[0.5555555555555556,\"#d8576b\"],[0.6666666666666666,\"#ed7953\"],[0.7777777777777778,\"#fb9f3a\"],[0.8888888888888888,\"#fdca26\"],[1.0,\"#f0f921\"]]}],\"mesh3d\":[{\"type\":\"mesh3d\",\"colorbar\":{\"outlinewidth\":0,\"ticks\":\"\"}}],\"scatter\":[{\"fillpattern\":{\"fillmode\":\"overlay\",\"size\":10,\"solidity\":0.2},\"type\":\"scatter\"}],\"parcoords\":[{\"type\":\"parcoords\",\"line\":{\"colorbar\":{\"outlinewidth\":0,\"ticks\":\"\"}}}],\"scatterpolargl\":[{\"type\":\"scatterpolargl\",\"marker\":{\"colorbar\":{\"outlinewidth\":0,\"ticks\":\"\"}}}],\"bar\":[{\"error_x\":{\"color\":\"#2a3f5f\"},\"error_y\":{\"color\":\"#2a3f5f\"},\"marker\":{\"line\":{\"color\":\"#E5ECF6\",\"width\":0.5},\"pattern\":{\"fillmode\":\"overlay\",\"size\":10,\"solidity\":0.2}},\"type\":\"bar\"}],\"scattergeo\":[{\"type\":\"scattergeo\",\"marker\":{\"colorbar\":{\"outlinewidth\":0,\"ticks\":\"\"}}}],\"scatterpolar\":[{\"type\":\"scatterpolar\",\"marker\":{\"colorbar\":{\"outlinewidth\":0,\"ticks\":\"\"}}}],\"histogram\":[{\"marker\":{\"pattern\":{\"fillmode\":\"overlay\",\"size\":10,\"solidity\":0.2}},\"type\":\"histogram\"}],\"scattergl\":[{\"type\":\"scattergl\",\"marker\":{\"colorbar\":{\"outlinewidth\":0,\"ticks\":\"\"}}}],\"scatter3d\":[{\"type\":\"scatter3d\",\"line\":{\"colorbar\":{\"outlinewidth\":0,\"ticks\":\"\"}},\"marker\":{\"colorbar\":{\"outlinewidth\":0,\"ticks\":\"\"}}}],\"scattermapbox\":[{\"type\":\"scattermapbox\",\"marker\":{\"colorbar\":{\"outlinewidth\":0,\"ticks\":\"\"}}}],\"scatterternary\":[{\"type\":\"scatterternary\",\"marker\":{\"colorbar\":{\"outlinewidth\":0,\"ticks\":\"\"}}}],\"scattercarpet\":[{\"type\":\"scattercarpet\",\"marker\":{\"colorbar\":{\"outlinewidth\":0,\"ticks\":\"\"}}}],\"carpet\":[{\"aaxis\":{\"endlinecolor\":\"#2a3f5f\",\"gridcolor\":\"white\",\"linecolor\":\"white\",\"minorgridcolor\":\"white\",\"startlinecolor\":\"#2a3f5f\"},\"baxis\":{\"endlinecolor\":\"#2a3f5f\",\"gridcolor\":\"white\",\"linecolor\":\"white\",\"minorgridcolor\":\"white\",\"startlinecolor\":\"#2a3f5f\"},\"type\":\"carpet\"}],\"table\":[{\"cells\":{\"fill\":{\"color\":\"#EBF0F8\"},\"line\":{\"color\":\"white\"}},\"header\":{\"fill\":{\"color\":\"#C8D4E3\"},\"line\":{\"color\":\"white\"}},\"type\":\"table\"}],\"barpolar\":[{\"marker\":{\"line\":{\"color\":\"#E5ECF6\",\"width\":0.5},\"pattern\":{\"fillmode\":\"overlay\",\"size\":10,\"solidity\":0.2}},\"type\":\"barpolar\"}],\"pie\":[{\"automargin\":true,\"type\":\"pie\"}]},\"layout\":{\"autotypenumbers\":\"strict\",\"colorway\":[\"#636efa\",\"#EF553B\",\"#00cc96\",\"#ab63fa\",\"#FFA15A\",\"#19d3f3\",\"#FF6692\",\"#B6E880\",\"#FF97FF\",\"#FECB52\"],\"font\":{\"color\":\"#2a3f5f\"},\"hovermode\":\"closest\",\"hoverlabel\":{\"align\":\"left\"},\"paper_bgcolor\":\"white\",\"plot_bgcolor\":\"#E5ECF6\",\"polar\":{\"bgcolor\":\"#E5ECF6\",\"angularaxis\":{\"gridcolor\":\"white\",\"linecolor\":\"white\",\"ticks\":\"\"},\"radialaxis\":{\"gridcolor\":\"white\",\"linecolor\":\"white\",\"ticks\":\"\"}},\"ternary\":{\"bgcolor\":\"#E5ECF6\",\"aaxis\":{\"gridcolor\":\"white\",\"linecolor\":\"white\",\"ticks\":\"\"},\"baxis\":{\"gridcolor\":\"white\",\"linecolor\":\"white\",\"ticks\":\"\"},\"caxis\":{\"gridcolor\":\"white\",\"linecolor\":\"white\",\"ticks\":\"\"}},\"coloraxis\":{\"colorbar\":{\"outlinewidth\":0,\"ticks\":\"\"}},\"colorscale\":{\"sequential\":[[0.0,\"#0d0887\"],[0.1111111111111111,\"#46039f\"],[0.2222222222222222,\"#7201a8\"],[0.3333333333333333,\"#9c179e\"],[0.4444444444444444,\"#bd3786\"],[0.5555555555555556,\"#d8576b\"],[0.6666666666666666,\"#ed7953\"],[0.7777777777777778,\"#fb9f3a\"],[0.8888888888888888,\"#fdca26\"],[1.0,\"#f0f921\"]],\"sequentialminus\":[[0.0,\"#0d0887\"],[0.1111111111111111,\"#46039f\"],[0.2222222222222222,\"#7201a8\"],[0.3333333333333333,\"#9c179e\"],[0.4444444444444444,\"#bd3786\"],[0.5555555555555556,\"#d8576b\"],[0.6666666666666666,\"#ed7953\"],[0.7777777777777778,\"#fb9f3a\"],[0.8888888888888888,\"#fdca26\"],[1.0,\"#f0f921\"]],\"diverging\":[[0,\"#8e0152\"],[0.1,\"#c51b7d\"],[0.2,\"#de77ae\"],[0.3,\"#f1b6da\"],[0.4,\"#fde0ef\"],[0.5,\"#f7f7f7\"],[0.6,\"#e6f5d0\"],[0.7,\"#b8e186\"],[0.8,\"#7fbc41\"],[0.9,\"#4d9221\"],[1,\"#276419\"]]},\"xaxis\":{\"gridcolor\":\"white\",\"linecolor\":\"white\",\"ticks\":\"\",\"title\":{\"standoff\":15},\"zerolinecolor\":\"white\",\"automargin\":true,\"zerolinewidth\":2},\"yaxis\":{\"gridcolor\":\"white\",\"linecolor\":\"white\",\"ticks\":\"\",\"title\":{\"standoff\":15},\"zerolinecolor\":\"white\",\"automargin\":true,\"zerolinewidth\":2},\"scene\":{\"xaxis\":{\"backgroundcolor\":\"#E5ECF6\",\"gridcolor\":\"white\",\"linecolor\":\"white\",\"showbackground\":true,\"ticks\":\"\",\"zerolinecolor\":\"white\",\"gridwidth\":2},\"yaxis\":{\"backgroundcolor\":\"#E5ECF6\",\"gridcolor\":\"white\",\"linecolor\":\"white\",\"showbackground\":true,\"ticks\":\"\",\"zerolinecolor\":\"white\",\"gridwidth\":2},\"zaxis\":{\"backgroundcolor\":\"#E5ECF6\",\"gridcolor\":\"white\",\"linecolor\":\"white\",\"showbackground\":true,\"ticks\":\"\",\"zerolinecolor\":\"white\",\"gridwidth\":2}},\"shapedefaults\":{\"line\":{\"color\":\"#2a3f5f\"}},\"annotationdefaults\":{\"arrowcolor\":\"#2a3f5f\",\"arrowhead\":0,\"arrowwidth\":1},\"geo\":{\"bgcolor\":\"white\",\"landcolor\":\"#E5ECF6\",\"subunitcolor\":\"white\",\"showland\":true,\"showlakes\":true,\"lakecolor\":\"white\"},\"title\":{\"x\":0.05},\"mapbox\":{\"style\":\"light\"}}}},                        {\"responsive\": true}                    ).then(function(){\n",
       "                            Plotly.addFrames('eef76db3-6e92-449b-9a80-8a5985bedce0', [{\"data\":[{\"hoverinfo\":\"y\",\"marker\":{\"color\":\"blue\"},\"name\":\"lemonade_demand\",\"opacity\":0.8,\"showlegend\":false,\"text\":[\"Forecasted Demand: 41\",\"Forecasted Demand: 571\",\"Forecasted Demand: 526\",\"Forecasted Demand: 370\",\"Forecasted Demand: 360\",\"Forecasted Demand: 463\",\"Forecasted Demand: 229\",\"Forecasted Demand: 59\",\"Forecasted Demand: 94\",\"Forecasted Demand: 289\",\"Forecasted Demand: 225\",\"Forecasted Demand: 201\"],\"textfont\":{\"color\":\"black\"},\"textposition\":\"outside\",\"x\":[1,2,3,4,5,6,7,8,9,10,11,12],\"y\":[41.04,571.85,526.43,370.79,360.11,463.35,229.15,59.1,94.04,289.66,225.44,201.21],\"type\":\"bar\"}],\"name\":\"Initial lemonade_demand\"},{\"data\":[{\"hoverinfo\":\"y\",\"marker\":{\"color\":\"blue\"},\"name\":\"lemonade_demand\",\"opacity\":0.8,\"showlegend\":false,\"text\":[\"Forecasted Demand: 41\",\"Forecasted Demand: 571\",\"Forecasted Demand: 526\",\"Forecasted Demand: 370\",\"Forecasted Demand: 360\",\"Forecasted Demand: 463\",\"Forecasted Demand: 229\",\"Forecasted Demand: 59\",\"Forecasted Demand: 94\",\"Forecasted Demand: 289\",\"Forecasted Demand: 225\",\"Forecasted Demand: 201\"],\"textfont\":{\"color\":\"black\"},\"textposition\":\"outside\",\"x\":[1,2,3,4,5,6,7,8,9,10,11,12],\"y\":[41.04,571.85,526.43,370.79,360.11,463.35,229.15,59.1,94.04,289.66,225.44,201.21],\"type\":\"bar\"}],\"name\":\"Final lemonade_demand\"},{\"data\":[{\"hoverinfo\":\"y\",\"marker\":{\"color\":\"green\"},\"name\":\"iced_tea_demand\",\"opacity\":0.8,\"showlegend\":false,\"text\":[\"Forecasted Demand: 47\",\"Forecasted Demand: 246\",\"Forecasted Demand: 251\",\"Forecasted Demand: 481\",\"Forecasted Demand: 301\",\"Forecasted Demand: 277\",\"Forecasted Demand: 39\",\"Forecasted Demand: 69\",\"Forecasted Demand: 160\",\"Forecasted Demand: 100\",\"Forecasted Demand: 24\",\"Forecasted Demand: 223\"],\"textfont\":{\"color\":\"black\"},\"textposition\":\"outside\",\"x\":[1,2,3,4,5,6,7,8,9,10,11,12],\"y\":[47.16,246.31,251.31,481.12,301.2,277.1,39.19,69.39,160.22,100.91,24.62,223.45],\"type\":\"bar\"}],\"name\":\"Initial iced_tea_demand\"},{\"data\":[{\"hoverinfo\":\"y\",\"marker\":{\"color\":\"green\"},\"name\":\"iced_tea_demand\",\"opacity\":0.8,\"showlegend\":false,\"text\":[\"Forecasted Demand: 47\",\"Forecasted Demand: 246\",\"Forecasted Demand: 251\",\"Forecasted Demand: 481\",\"Forecasted Demand: 301\",\"Forecasted Demand: 277\",\"Forecasted Demand: 39\",\"Forecasted Demand: 69\",\"Forecasted Demand: 160\",\"Forecasted Demand: 100\",\"Forecasted Demand: 24\",\"Forecasted Demand: 223\"],\"textfont\":{\"color\":\"black\"},\"textposition\":\"outside\",\"x\":[1,2,3,4,5,6,7,8,9,10,11,12],\"y\":[47.16,246.31,251.31,481.12,301.2,277.1,39.19,69.39,160.22,100.91,24.62,223.45],\"type\":\"bar\"}],\"name\":\"Final iced_tea_demand\"},{\"data\":[{\"hoverinfo\":\"y\",\"marker\":{\"color\":\"orange\"},\"name\":\"hot_cocoa_demand\",\"opacity\":0.8,\"showlegend\":false,\"text\":[\"Forecasted Demand: 336\",\"Forecasted Demand: 177\",\"Forecasted Demand: 223\",\"Forecasted Demand: 114\",\"Forecasted Demand: 244\",\"Forecasted Demand: 55\",\"Forecasted Demand: 460\",\"Forecasted Demand: 278\",\"Forecasted Demand: 311\",\"Forecasted Demand: 489\",\"Forecasted Demand: 332\",\"Forecasted Demand: 348\"],\"textfont\":{\"color\":\"black\"},\"textposition\":\"outside\",\"x\":[1,2,3,4,5,6,7,8,9,10,11,12],\"y\":[336.88,177.19,223.85,114.68,244.31,55.24,460.07,278.39,311.12,489.57,332.25,348.48],\"type\":\"bar\"}],\"name\":\"Initial hot_cocoa_demand\"},{\"data\":[{\"hoverinfo\":\"y\",\"marker\":{\"color\":\"orange\"},\"name\":\"hot_cocoa_demand\",\"opacity\":0.8,\"showlegend\":false,\"text\":[\"Forecasted Demand: 336\",\"Forecasted Demand: 177\",\"Forecasted Demand: 223\",\"Forecasted Demand: 114\",\"Forecasted Demand: 244\",\"Forecasted Demand: 55\",\"Forecasted Demand: 460\",\"Forecasted Demand: 278\",\"Forecasted Demand: 311\",\"Forecasted Demand: 489\",\"Forecasted Demand: 332\",\"Forecasted Demand: 348\"],\"textfont\":{\"color\":\"black\"},\"textposition\":\"outside\",\"x\":[1,2,3,4,5,6,7,8,9,10,11,12],\"y\":[336.88,177.19,223.85,114.68,244.31,55.24,460.07,278.39,311.12,489.57,332.25,348.48],\"type\":\"bar\"}],\"name\":\"Final hot_cocoa_demand\"},{\"data\":[{\"hoverinfo\":\"y\",\"marker\":{\"color\":\"red\"},\"name\":\"snacks_demand\",\"opacity\":0.8,\"showlegend\":false,\"text\":[\"Forecasted Demand: 573\",\"Forecasted Demand: 36\",\"Forecasted Demand: 228\",\"Forecasted Demand: 154\",\"Forecasted Demand: 169\",\"Forecasted Demand: 103\",\"Forecasted Demand: 433\",\"Forecasted Demand: 540\",\"Forecasted Demand: 514\",\"Forecasted Demand: 502\",\"Forecasted Demand: 489\",\"Forecasted Demand: 511\"],\"textfont\":{\"color\":\"black\"},\"textposition\":\"outside\",\"x\":[1,2,3,4,5,6,7,8,9,10,11,12],\"y\":[573.26,36.54,228.28,154.24,169.12,103.45,433.96,540.53,514.84,502.5,489.61,511.69],\"type\":\"bar\"}],\"name\":\"Initial snacks_demand\"},{\"data\":[{\"hoverinfo\":\"y\",\"marker\":{\"color\":\"red\"},\"name\":\"snacks_demand\",\"opacity\":0.8,\"showlegend\":false,\"text\":[\"Forecasted Demand: 573\",\"Forecasted Demand: 36\",\"Forecasted Demand: 228\",\"Forecasted Demand: 154\",\"Forecasted Demand: 169\",\"Forecasted Demand: 103\",\"Forecasted Demand: 433\",\"Forecasted Demand: 540\",\"Forecasted Demand: 514\",\"Forecasted Demand: 502\",\"Forecasted Demand: 489\",\"Forecasted Demand: 511\"],\"textfont\":{\"color\":\"black\"},\"textposition\":\"outside\",\"x\":[1,2,3,4,5,6,7,8,9,10,11,12],\"y\":[573.26,36.54,228.28,154.24,169.12,103.45,433.96,540.53,514.84,502.5,489.61,511.69],\"type\":\"bar\"}],\"name\":\"Final snacks_demand\"}]);\n",
       "                        }).then(function(){\n",
       "                            \n",
       "var gd = document.getElementById('eef76db3-6e92-449b-9a80-8a5985bedce0');\n",
       "var x = new MutationObserver(function (mutations, observer) {{\n",
       "        var display = window.getComputedStyle(gd).display;\n",
       "        if (!display || display === 'none') {{\n",
       "            console.log([gd, 'removed!']);\n",
       "            Plotly.purge(gd);\n",
       "            observer.disconnect();\n",
       "        }}\n",
       "}});\n",
       "\n",
       "// Listen for the removal of the full notebook cells\n",
       "var notebookContainer = gd.closest('#notebook-container');\n",
       "if (notebookContainer) {{\n",
       "    x.observe(notebookContainer, {childList: true});\n",
       "}}\n",
       "\n",
       "// Listen for the clearing of the current output cell\n",
       "var outputEl = gd.closest('.output');\n",
       "if (outputEl) {{\n",
       "    x.observe(outputEl, {childList: true});\n",
       "}}\n",
       "\n",
       "                        })                };                });            </script>        </div>"
      ]
     },
     "metadata": {},
     "output_type": "display_data"
    }
   ],
   "source": [
    "# Visualizing using plotly animated bar graphs (to be debugged)\n",
    "import plotly.graph_objects as go\n",
    "\n",
    "# Define a color palette for the products\n",
    "colors = ['blue', 'green', 'orange', 'red']\n",
    "\n",
    "# Create traces for each product with different colors\n",
    "traces = []\n",
    "legends = []  # List to hold legend traces\n",
    "for i, product in enumerate(y.columns):\n",
    "    traces.append(go.Bar(\n",
    "        x=months,\n",
    "        y=forecasted_demand_2024[product],\n",
    "        name=product,\n",
    "        marker_color=colors[i],  # Assign color from the color palette\n",
    "        hoverinfo='y',\n",
    "        text=[f'Forecasted Demand: {int(val)}' for val in forecasted_demand_2024[product]],\n",
    "        textposition='outside',\n",
    "        textfont=dict(color='black'),\n",
    "        opacity=0.8,\n",
    "        showlegend=False  # Disable legend for individual traces\n",
    "    ))\n",
    "    # Create legend traces\n",
    "    legends.append(go.Bar(\n",
    "        x=[None],\n",
    "        y=[None],\n",
    "        name=product,\n",
    "        marker_color=colors[i],\n",
    "        showlegend=True\n",
    "    ))\n",
    "\n",
    "# Create frames for animation\n",
    "frames = []\n",
    "for product, trace in zip(y.columns, traces):\n",
    "    initial_frame = go.Frame(data=[trace], name=f'Initial {product}')\n",
    "    final_frame = go.Frame(data=[trace], name=f'Final {product}')\n",
    "    frames.extend([initial_frame, final_frame])\n",
    "\n",
    "# Create slider steps\n",
    "steps = []\n",
    "for product in y.columns:\n",
    "    initial_step = {\n",
    "        \"args\": [[f'Initial {product}'], {\"frame\": {\"duration\": 1000, \"redraw\": True}, \"mode\": \"immediate\", \"transition\": {\"duration\": 0}}],\n",
    "        \"label\": product,\n",
    "        \"method\": \"animate\"\n",
    "    }\n",
    "    final_step = {\n",
    "        \"args\": [[f'Final {product}'], {\"frame\": {\"duration\": 1000, \"redraw\": True}, \"mode\": \"immediate\", \"transition\": {\"duration\": 0}}],\n",
    "        \"label\": product,\n",
    "        \"method\": \"animate\"\n",
    "    }\n",
    "    steps.extend([initial_step, final_step])\n",
    "\n",
    "# Create figure\n",
    "fig = go.Figure(\n",
    "    data=traces + legends,  # Add legends to the data list\n",
    "    layout=go.Layout(\n",
    "        title='Forecasted Demand for 2024',\n",
    "        xaxis_title='Month',\n",
    "        yaxis_title='Demand',\n",
    "        barmode='group',\n",
    "        showlegend=True,\n",
    "        legend=dict(\n",
    "            orientation='h',\n",
    "            yanchor='bottom',\n",
    "            y=1.02,\n",
    "            xanchor='right',\n",
    "            x=1\n",
    "        ),\n",
    "        xaxis=dict(\n",
    "            tickmode='array',  # Set tick mode to array\n",
    "            tickvals=list(range(1, 13)),  # Specify tick values as month numbers\n",
    "            ticktext=['Jan', 'Feb', 'Mar', 'Apr', 'May', 'Jun', 'Jul', 'Aug', 'Sep', 'Oct', 'Nov', 'Dec'],  # Specify tick text as month names\n",
    "        ),\n",
    "        updatemenus=[{\n",
    "            \"buttons\": [{\n",
    "                \"args\": [None, {\"frame\": {\"duration\": 1000, \"redraw\": True}, \"fromcurrent\": True}],\n",
    "                \"label\": \"Play\",\n",
    "                \"method\": \"animate\"\n",
    "            }, {\n",
    "                \"args\": [[None], {\"frame\": {\"duration\": 0, \"redraw\": True}, \"mode\": \"immediate\", \"transition\": {\"duration\": 0}}],\n",
    "                \"label\": \"Pause\",\n",
    "                \"method\": \"animate\"\n",
    "            }],\n",
    "            \"direction\": \"left\",\n",
    "            \"pad\": {\"r\": 10, \"t\": 87},\n",
    "            \"showactive\": False,\n",
    "            \"type\": \"buttons\",\n",
    "            \"x\": 0.1,\n",
    "            \"xanchor\": \"right\",\n",
    "            \"y\": 0,\n",
    "            \"yanchor\": \"top\"\n",
    "        }],\n",
    "        sliders=[{\n",
    "            \"active\": 0,\n",
    "            \"steps\": steps,\n",
    "            \"y\": 0,\n",
    "            \"x\": 0.1,\n",
    "            \"pad\": {\"t\": 50, \"b\": 10},\n",
    "            \"len\": 0.9,\n",
    "            \"xanchor\": \"left\",\n",
    "            \"yanchor\": \"top\",\n",
    "            \"currentvalue\": {\n",
    "                \"visible\": False,\n",
    "                \"prefix\": \"Product: \",\n",
    "                \"xanchor\": \"right\"\n",
    "            }\n",
    "        }]\n",
    "    ),\n",
    "    frames=frames\n",
    ")\n",
    "\n",
    "fig.show()\n"
   ]
  },
  {
   "cell_type": "code",
   "execution_count": null,
   "id": "cc8abee4",
   "metadata": {},
   "outputs": [],
   "source": []
  },
  {
   "cell_type": "code",
   "execution_count": null,
   "id": "5d64f92e",
   "metadata": {},
   "outputs": [],
   "source": []
  }
 ],
 "metadata": {
  "kernelspec": {
   "display_name": "Python 3",
   "language": "python",
   "name": "python3"
  },
  "language_info": {
   "codemirror_mode": {
    "name": "ipython",
    "version": 3
   },
   "file_extension": ".py",
   "mimetype": "text/x-python",
   "name": "python",
   "nbconvert_exporter": "python",
   "pygments_lexer": "ipython3",
   "version": "3.8.8"
  }
 },
 "nbformat": 4,
 "nbformat_minor": 5
}
